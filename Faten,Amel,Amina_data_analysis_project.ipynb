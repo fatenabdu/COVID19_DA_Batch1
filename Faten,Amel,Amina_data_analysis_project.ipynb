{
  "nbformat": 4,
  "nbformat_minor": 0,
  "metadata": {
    "colab": {
      "provenance": []
    },
    "kernelspec": {
      "name": "python3",
      "display_name": "Python 3"
    },
    "language_info": {
      "name": "python"
    }
  },
  "cells": [
    {
      "cell_type": "markdown",
      "source": [
        "#**1- Import libraries :**"
      ],
      "metadata": {
        "id": "SLSupN-5zQ_c"
      }
    },
    {
      "cell_type": "code",
      "execution_count": 60,
      "metadata": {
        "id": "kOEYsonlv5z-"
      },
      "outputs": [],
      "source": [
        "#importing libraries.....\n",
        "import pandas as pd   \n",
        "import seaborn as sns\n",
        "import matplotlib.pyplot as plt \n",
        "import numpy as np   "
      ]
    },
    {
      "cell_type": "markdown",
      "source": [
        "#**2- Upload and read the dataset :**"
      ],
      "metadata": {
        "id": "U-ZjBNE7zovX"
      }
    },
    {
      "cell_type": "markdown",
      "source": [
        "A- Upload the dataset from google drive :"
      ],
      "metadata": {
        "id": "2vcuFW_W0Hw2"
      }
    },
    {
      "cell_type": "code",
      "source": [
        "#linking colab page with google drive\n",
        "from google.colab import drive\n",
        "drive.mount('/content/drive')"
      ],
      "metadata": {
        "colab": {
          "base_uri": "https://localhost:8080/"
        },
        "id": "vY1zz-HGf95q",
        "outputId": "c2457c80-6cf6-403c-d096-614479f94f50"
      },
      "execution_count": 61,
      "outputs": [
        {
          "output_type": "stream",
          "name": "stdout",
          "text": [
            "Drive already mounted at /content/drive; to attempt to forcibly remount, call drive.mount(\"/content/drive\", force_remount=True).\n"
          ]
        }
      ]
    },
    {
      "cell_type": "markdown",
      "source": [
        "B- Read The dataset"
      ],
      "metadata": {
        "id": "90MUB9-O0QMg"
      }
    },
    {
      "cell_type": "code",
      "source": [
        "#reading the dataset\n",
        "Covid_dataset =pd.read_csv(\"/content/drive/MyDrive/covid.csv\")            "
      ],
      "metadata": {
        "id": "EHtiCD4bxlW4"
      },
      "execution_count": 62,
      "outputs": []
    },
    {
      "cell_type": "code",
      "source": [
        "#displaying first five rows of covid_dataset\n",
        "Covid_dataset.head()                            "
      ],
      "metadata": {
        "colab": {
          "base_uri": "https://localhost:8080/",
          "height": 386
        },
        "id": "hpi3HZAVxx3U",
        "outputId": "13c34cbc-0469-4fd5-d688-9fad9e0014d4"
      },
      "execution_count": 63,
      "outputs": [
        {
          "output_type": "execute_result",
          "data": {
            "text/plain": [
              "       id  sex  patient_type  entry_date date_symptoms   date_died  intubed  \\\n",
              "0  16169f    2             1  04-05-2020    02-05-2020  9999-99-99       97   \n",
              "1  1009bf    2             1  19-03-2020    17-03-2020  9999-99-99       97   \n",
              "2  167386    1             2  06-04-2020    01-04-2020  9999-99-99        2   \n",
              "3  0b5948    2             2  17-04-2020    10-04-2020  9999-99-99        2   \n",
              "4  0d01b5    1             2  13-04-2020    13-04-2020  22-04-2020        2   \n",
              "\n",
              "   pneumonia  age  pregnancy  ...  inmsupr  hypertension  other_disease  \\\n",
              "0          2   27         97  ...        2             2              2   \n",
              "1          2   24         97  ...        2             2              2   \n",
              "2          2   54          2  ...        2             2              2   \n",
              "3          1   30         97  ...        2             2              2   \n",
              "4          2   60          2  ...        2             1              2   \n",
              "\n",
              "   cardiovascular  obesity  renal_chronic  tobacco  contact_other_covid  \\\n",
              "0               2        2              2        2                    2   \n",
              "1               2        2              2        2                   99   \n",
              "2               2        1              2        2                   99   \n",
              "3               2        2              2        2                   99   \n",
              "4               1        2              2        2                   99   \n",
              "\n",
              "   covid_res  icu  \n",
              "0          1   97  \n",
              "1          1   97  \n",
              "2          1    2  \n",
              "3          1    2  \n",
              "4          1    2  \n",
              "\n",
              "[5 rows x 23 columns]"
            ],
            "text/html": [
              "\n",
              "  <div id=\"df-ef307560-7900-405f-a9f9-0e4a8687b258\">\n",
              "    <div class=\"colab-df-container\">\n",
              "      <div>\n",
              "<style scoped>\n",
              "    .dataframe tbody tr th:only-of-type {\n",
              "        vertical-align: middle;\n",
              "    }\n",
              "\n",
              "    .dataframe tbody tr th {\n",
              "        vertical-align: top;\n",
              "    }\n",
              "\n",
              "    .dataframe thead th {\n",
              "        text-align: right;\n",
              "    }\n",
              "</style>\n",
              "<table border=\"1\" class=\"dataframe\">\n",
              "  <thead>\n",
              "    <tr style=\"text-align: right;\">\n",
              "      <th></th>\n",
              "      <th>id</th>\n",
              "      <th>sex</th>\n",
              "      <th>patient_type</th>\n",
              "      <th>entry_date</th>\n",
              "      <th>date_symptoms</th>\n",
              "      <th>date_died</th>\n",
              "      <th>intubed</th>\n",
              "      <th>pneumonia</th>\n",
              "      <th>age</th>\n",
              "      <th>pregnancy</th>\n",
              "      <th>...</th>\n",
              "      <th>inmsupr</th>\n",
              "      <th>hypertension</th>\n",
              "      <th>other_disease</th>\n",
              "      <th>cardiovascular</th>\n",
              "      <th>obesity</th>\n",
              "      <th>renal_chronic</th>\n",
              "      <th>tobacco</th>\n",
              "      <th>contact_other_covid</th>\n",
              "      <th>covid_res</th>\n",
              "      <th>icu</th>\n",
              "    </tr>\n",
              "  </thead>\n",
              "  <tbody>\n",
              "    <tr>\n",
              "      <th>0</th>\n",
              "      <td>16169f</td>\n",
              "      <td>2</td>\n",
              "      <td>1</td>\n",
              "      <td>04-05-2020</td>\n",
              "      <td>02-05-2020</td>\n",
              "      <td>9999-99-99</td>\n",
              "      <td>97</td>\n",
              "      <td>2</td>\n",
              "      <td>27</td>\n",
              "      <td>97</td>\n",
              "      <td>...</td>\n",
              "      <td>2</td>\n",
              "      <td>2</td>\n",
              "      <td>2</td>\n",
              "      <td>2</td>\n",
              "      <td>2</td>\n",
              "      <td>2</td>\n",
              "      <td>2</td>\n",
              "      <td>2</td>\n",
              "      <td>1</td>\n",
              "      <td>97</td>\n",
              "    </tr>\n",
              "    <tr>\n",
              "      <th>1</th>\n",
              "      <td>1009bf</td>\n",
              "      <td>2</td>\n",
              "      <td>1</td>\n",
              "      <td>19-03-2020</td>\n",
              "      <td>17-03-2020</td>\n",
              "      <td>9999-99-99</td>\n",
              "      <td>97</td>\n",
              "      <td>2</td>\n",
              "      <td>24</td>\n",
              "      <td>97</td>\n",
              "      <td>...</td>\n",
              "      <td>2</td>\n",
              "      <td>2</td>\n",
              "      <td>2</td>\n",
              "      <td>2</td>\n",
              "      <td>2</td>\n",
              "      <td>2</td>\n",
              "      <td>2</td>\n",
              "      <td>99</td>\n",
              "      <td>1</td>\n",
              "      <td>97</td>\n",
              "    </tr>\n",
              "    <tr>\n",
              "      <th>2</th>\n",
              "      <td>167386</td>\n",
              "      <td>1</td>\n",
              "      <td>2</td>\n",
              "      <td>06-04-2020</td>\n",
              "      <td>01-04-2020</td>\n",
              "      <td>9999-99-99</td>\n",
              "      <td>2</td>\n",
              "      <td>2</td>\n",
              "      <td>54</td>\n",
              "      <td>2</td>\n",
              "      <td>...</td>\n",
              "      <td>2</td>\n",
              "      <td>2</td>\n",
              "      <td>2</td>\n",
              "      <td>2</td>\n",
              "      <td>1</td>\n",
              "      <td>2</td>\n",
              "      <td>2</td>\n",
              "      <td>99</td>\n",
              "      <td>1</td>\n",
              "      <td>2</td>\n",
              "    </tr>\n",
              "    <tr>\n",
              "      <th>3</th>\n",
              "      <td>0b5948</td>\n",
              "      <td>2</td>\n",
              "      <td>2</td>\n",
              "      <td>17-04-2020</td>\n",
              "      <td>10-04-2020</td>\n",
              "      <td>9999-99-99</td>\n",
              "      <td>2</td>\n",
              "      <td>1</td>\n",
              "      <td>30</td>\n",
              "      <td>97</td>\n",
              "      <td>...</td>\n",
              "      <td>2</td>\n",
              "      <td>2</td>\n",
              "      <td>2</td>\n",
              "      <td>2</td>\n",
              "      <td>2</td>\n",
              "      <td>2</td>\n",
              "      <td>2</td>\n",
              "      <td>99</td>\n",
              "      <td>1</td>\n",
              "      <td>2</td>\n",
              "    </tr>\n",
              "    <tr>\n",
              "      <th>4</th>\n",
              "      <td>0d01b5</td>\n",
              "      <td>1</td>\n",
              "      <td>2</td>\n",
              "      <td>13-04-2020</td>\n",
              "      <td>13-04-2020</td>\n",
              "      <td>22-04-2020</td>\n",
              "      <td>2</td>\n",
              "      <td>2</td>\n",
              "      <td>60</td>\n",
              "      <td>2</td>\n",
              "      <td>...</td>\n",
              "      <td>2</td>\n",
              "      <td>1</td>\n",
              "      <td>2</td>\n",
              "      <td>1</td>\n",
              "      <td>2</td>\n",
              "      <td>2</td>\n",
              "      <td>2</td>\n",
              "      <td>99</td>\n",
              "      <td>1</td>\n",
              "      <td>2</td>\n",
              "    </tr>\n",
              "  </tbody>\n",
              "</table>\n",
              "<p>5 rows × 23 columns</p>\n",
              "</div>\n",
              "      <button class=\"colab-df-convert\" onclick=\"convertToInteractive('df-ef307560-7900-405f-a9f9-0e4a8687b258')\"\n",
              "              title=\"Convert this dataframe to an interactive table.\"\n",
              "              style=\"display:none;\">\n",
              "        \n",
              "  <svg xmlns=\"http://www.w3.org/2000/svg\" height=\"24px\"viewBox=\"0 0 24 24\"\n",
              "       width=\"24px\">\n",
              "    <path d=\"M0 0h24v24H0V0z\" fill=\"none\"/>\n",
              "    <path d=\"M18.56 5.44l.94 2.06.94-2.06 2.06-.94-2.06-.94-.94-2.06-.94 2.06-2.06.94zm-11 1L8.5 8.5l.94-2.06 2.06-.94-2.06-.94L8.5 2.5l-.94 2.06-2.06.94zm10 10l.94 2.06.94-2.06 2.06-.94-2.06-.94-.94-2.06-.94 2.06-2.06.94z\"/><path d=\"M17.41 7.96l-1.37-1.37c-.4-.4-.92-.59-1.43-.59-.52 0-1.04.2-1.43.59L10.3 9.45l-7.72 7.72c-.78.78-.78 2.05 0 2.83L4 21.41c.39.39.9.59 1.41.59.51 0 1.02-.2 1.41-.59l7.78-7.78 2.81-2.81c.8-.78.8-2.07 0-2.86zM5.41 20L4 18.59l7.72-7.72 1.47 1.35L5.41 20z\"/>\n",
              "  </svg>\n",
              "      </button>\n",
              "      \n",
              "  <style>\n",
              "    .colab-df-container {\n",
              "      display:flex;\n",
              "      flex-wrap:wrap;\n",
              "      gap: 12px;\n",
              "    }\n",
              "\n",
              "    .colab-df-convert {\n",
              "      background-color: #E8F0FE;\n",
              "      border: none;\n",
              "      border-radius: 50%;\n",
              "      cursor: pointer;\n",
              "      display: none;\n",
              "      fill: #1967D2;\n",
              "      height: 32px;\n",
              "      padding: 0 0 0 0;\n",
              "      width: 32px;\n",
              "    }\n",
              "\n",
              "    .colab-df-convert:hover {\n",
              "      background-color: #E2EBFA;\n",
              "      box-shadow: 0px 1px 2px rgba(60, 64, 67, 0.3), 0px 1px 3px 1px rgba(60, 64, 67, 0.15);\n",
              "      fill: #174EA6;\n",
              "    }\n",
              "\n",
              "    [theme=dark] .colab-df-convert {\n",
              "      background-color: #3B4455;\n",
              "      fill: #D2E3FC;\n",
              "    }\n",
              "\n",
              "    [theme=dark] .colab-df-convert:hover {\n",
              "      background-color: #434B5C;\n",
              "      box-shadow: 0px 1px 3px 1px rgba(0, 0, 0, 0.15);\n",
              "      filter: drop-shadow(0px 1px 2px rgba(0, 0, 0, 0.3));\n",
              "      fill: #FFFFFF;\n",
              "    }\n",
              "  </style>\n",
              "\n",
              "      <script>\n",
              "        const buttonEl =\n",
              "          document.querySelector('#df-ef307560-7900-405f-a9f9-0e4a8687b258 button.colab-df-convert');\n",
              "        buttonEl.style.display =\n",
              "          google.colab.kernel.accessAllowed ? 'block' : 'none';\n",
              "\n",
              "        async function convertToInteractive(key) {\n",
              "          const element = document.querySelector('#df-ef307560-7900-405f-a9f9-0e4a8687b258');\n",
              "          const dataTable =\n",
              "            await google.colab.kernel.invokeFunction('convertToInteractive',\n",
              "                                                     [key], {});\n",
              "          if (!dataTable) return;\n",
              "\n",
              "          const docLinkHtml = 'Like what you see? Visit the ' +\n",
              "            '<a target=\"_blank\" href=https://colab.research.google.com/notebooks/data_table.ipynb>data table notebook</a>'\n",
              "            + ' to learn more about interactive tables.';\n",
              "          element.innerHTML = '';\n",
              "          dataTable['output_type'] = 'display_data';\n",
              "          await google.colab.output.renderOutput(dataTable, element);\n",
              "          const docLink = document.createElement('div');\n",
              "          docLink.innerHTML = docLinkHtml;\n",
              "          element.appendChild(docLink);\n",
              "        }\n",
              "      </script>\n",
              "    </div>\n",
              "  </div>\n",
              "  "
            ]
          },
          "metadata": {},
          "execution_count": 63
        }
      ]
    },
    {
      "cell_type": "code",
      "source": [
        "#displaying  five rows of covid_dataset randomly...\n",
        "Covid_dataset.sample(5)"
      ],
      "metadata": {
        "colab": {
          "base_uri": "https://localhost:8080/",
          "height": 386
        },
        "id": "GmeGSPq1KiIr",
        "outputId": "4c10f17f-427a-4f02-c198-f7aefbe3c56b"
      },
      "execution_count": 64,
      "outputs": [
        {
          "output_type": "execute_result",
          "data": {
            "text/plain": [
              "            id  sex  patient_type  entry_date date_symptoms   date_died  \\\n",
              "188363  0bc799    2             1  23-06-2020    18-06-2020  9999-99-99   \n",
              "110512  105bdc    2             1  17-06-2020    10-06-2020  9999-99-99   \n",
              "89007   1538fd    1             1  19-06-2020    17-06-2020  9999-99-99   \n",
              "85946   0c622a    1             1  15-06-2020    31-05-2020  9999-99-99   \n",
              "7500    0a3e50    2             1  05-06-2020    05-06-2020  9999-99-99   \n",
              "\n",
              "        intubed  pneumonia  age  pregnancy  ...  inmsupr  hypertension  \\\n",
              "188363       97          2   34         97  ...        1             1   \n",
              "110512       97          2   35         97  ...        2             2   \n",
              "89007        97          2    0          2  ...        2             2   \n",
              "85946        97          2   63          2  ...        2             2   \n",
              "7500         97          1   52         97  ...        2             1   \n",
              "\n",
              "        other_disease  cardiovascular  obesity  renal_chronic  tobacco  \\\n",
              "188363              2               2        1              1        2   \n",
              "110512              2               2        2              2        2   \n",
              "89007               2               2        2              2        2   \n",
              "85946               1               2        1              2        2   \n",
              "7500                2               2        1              2        1   \n",
              "\n",
              "        contact_other_covid  covid_res  icu  \n",
              "188363                   99          1   97  \n",
              "110512                    1          1   97  \n",
              "89007                     2          1   97  \n",
              "85946                     1          1   97  \n",
              "7500                      2          1   97  \n",
              "\n",
              "[5 rows x 23 columns]"
            ],
            "text/html": [
              "\n",
              "  <div id=\"df-8dde089d-b1d6-4367-9f97-082f13ee4edc\">\n",
              "    <div class=\"colab-df-container\">\n",
              "      <div>\n",
              "<style scoped>\n",
              "    .dataframe tbody tr th:only-of-type {\n",
              "        vertical-align: middle;\n",
              "    }\n",
              "\n",
              "    .dataframe tbody tr th {\n",
              "        vertical-align: top;\n",
              "    }\n",
              "\n",
              "    .dataframe thead th {\n",
              "        text-align: right;\n",
              "    }\n",
              "</style>\n",
              "<table border=\"1\" class=\"dataframe\">\n",
              "  <thead>\n",
              "    <tr style=\"text-align: right;\">\n",
              "      <th></th>\n",
              "      <th>id</th>\n",
              "      <th>sex</th>\n",
              "      <th>patient_type</th>\n",
              "      <th>entry_date</th>\n",
              "      <th>date_symptoms</th>\n",
              "      <th>date_died</th>\n",
              "      <th>intubed</th>\n",
              "      <th>pneumonia</th>\n",
              "      <th>age</th>\n",
              "      <th>pregnancy</th>\n",
              "      <th>...</th>\n",
              "      <th>inmsupr</th>\n",
              "      <th>hypertension</th>\n",
              "      <th>other_disease</th>\n",
              "      <th>cardiovascular</th>\n",
              "      <th>obesity</th>\n",
              "      <th>renal_chronic</th>\n",
              "      <th>tobacco</th>\n",
              "      <th>contact_other_covid</th>\n",
              "      <th>covid_res</th>\n",
              "      <th>icu</th>\n",
              "    </tr>\n",
              "  </thead>\n",
              "  <tbody>\n",
              "    <tr>\n",
              "      <th>188363</th>\n",
              "      <td>0bc799</td>\n",
              "      <td>2</td>\n",
              "      <td>1</td>\n",
              "      <td>23-06-2020</td>\n",
              "      <td>18-06-2020</td>\n",
              "      <td>9999-99-99</td>\n",
              "      <td>97</td>\n",
              "      <td>2</td>\n",
              "      <td>34</td>\n",
              "      <td>97</td>\n",
              "      <td>...</td>\n",
              "      <td>1</td>\n",
              "      <td>1</td>\n",
              "      <td>2</td>\n",
              "      <td>2</td>\n",
              "      <td>1</td>\n",
              "      <td>1</td>\n",
              "      <td>2</td>\n",
              "      <td>99</td>\n",
              "      <td>1</td>\n",
              "      <td>97</td>\n",
              "    </tr>\n",
              "    <tr>\n",
              "      <th>110512</th>\n",
              "      <td>105bdc</td>\n",
              "      <td>2</td>\n",
              "      <td>1</td>\n",
              "      <td>17-06-2020</td>\n",
              "      <td>10-06-2020</td>\n",
              "      <td>9999-99-99</td>\n",
              "      <td>97</td>\n",
              "      <td>2</td>\n",
              "      <td>35</td>\n",
              "      <td>97</td>\n",
              "      <td>...</td>\n",
              "      <td>2</td>\n",
              "      <td>2</td>\n",
              "      <td>2</td>\n",
              "      <td>2</td>\n",
              "      <td>2</td>\n",
              "      <td>2</td>\n",
              "      <td>2</td>\n",
              "      <td>1</td>\n",
              "      <td>1</td>\n",
              "      <td>97</td>\n",
              "    </tr>\n",
              "    <tr>\n",
              "      <th>89007</th>\n",
              "      <td>1538fd</td>\n",
              "      <td>1</td>\n",
              "      <td>1</td>\n",
              "      <td>19-06-2020</td>\n",
              "      <td>17-06-2020</td>\n",
              "      <td>9999-99-99</td>\n",
              "      <td>97</td>\n",
              "      <td>2</td>\n",
              "      <td>0</td>\n",
              "      <td>2</td>\n",
              "      <td>...</td>\n",
              "      <td>2</td>\n",
              "      <td>2</td>\n",
              "      <td>2</td>\n",
              "      <td>2</td>\n",
              "      <td>2</td>\n",
              "      <td>2</td>\n",
              "      <td>2</td>\n",
              "      <td>2</td>\n",
              "      <td>1</td>\n",
              "      <td>97</td>\n",
              "    </tr>\n",
              "    <tr>\n",
              "      <th>85946</th>\n",
              "      <td>0c622a</td>\n",
              "      <td>1</td>\n",
              "      <td>1</td>\n",
              "      <td>15-06-2020</td>\n",
              "      <td>31-05-2020</td>\n",
              "      <td>9999-99-99</td>\n",
              "      <td>97</td>\n",
              "      <td>2</td>\n",
              "      <td>63</td>\n",
              "      <td>2</td>\n",
              "      <td>...</td>\n",
              "      <td>2</td>\n",
              "      <td>2</td>\n",
              "      <td>1</td>\n",
              "      <td>2</td>\n",
              "      <td>1</td>\n",
              "      <td>2</td>\n",
              "      <td>2</td>\n",
              "      <td>1</td>\n",
              "      <td>1</td>\n",
              "      <td>97</td>\n",
              "    </tr>\n",
              "    <tr>\n",
              "      <th>7500</th>\n",
              "      <td>0a3e50</td>\n",
              "      <td>2</td>\n",
              "      <td>1</td>\n",
              "      <td>05-06-2020</td>\n",
              "      <td>05-06-2020</td>\n",
              "      <td>9999-99-99</td>\n",
              "      <td>97</td>\n",
              "      <td>1</td>\n",
              "      <td>52</td>\n",
              "      <td>97</td>\n",
              "      <td>...</td>\n",
              "      <td>2</td>\n",
              "      <td>1</td>\n",
              "      <td>2</td>\n",
              "      <td>2</td>\n",
              "      <td>1</td>\n",
              "      <td>2</td>\n",
              "      <td>1</td>\n",
              "      <td>2</td>\n",
              "      <td>1</td>\n",
              "      <td>97</td>\n",
              "    </tr>\n",
              "  </tbody>\n",
              "</table>\n",
              "<p>5 rows × 23 columns</p>\n",
              "</div>\n",
              "      <button class=\"colab-df-convert\" onclick=\"convertToInteractive('df-8dde089d-b1d6-4367-9f97-082f13ee4edc')\"\n",
              "              title=\"Convert this dataframe to an interactive table.\"\n",
              "              style=\"display:none;\">\n",
              "        \n",
              "  <svg xmlns=\"http://www.w3.org/2000/svg\" height=\"24px\"viewBox=\"0 0 24 24\"\n",
              "       width=\"24px\">\n",
              "    <path d=\"M0 0h24v24H0V0z\" fill=\"none\"/>\n",
              "    <path d=\"M18.56 5.44l.94 2.06.94-2.06 2.06-.94-2.06-.94-.94-2.06-.94 2.06-2.06.94zm-11 1L8.5 8.5l.94-2.06 2.06-.94-2.06-.94L8.5 2.5l-.94 2.06-2.06.94zm10 10l.94 2.06.94-2.06 2.06-.94-2.06-.94-.94-2.06-.94 2.06-2.06.94z\"/><path d=\"M17.41 7.96l-1.37-1.37c-.4-.4-.92-.59-1.43-.59-.52 0-1.04.2-1.43.59L10.3 9.45l-7.72 7.72c-.78.78-.78 2.05 0 2.83L4 21.41c.39.39.9.59 1.41.59.51 0 1.02-.2 1.41-.59l7.78-7.78 2.81-2.81c.8-.78.8-2.07 0-2.86zM5.41 20L4 18.59l7.72-7.72 1.47 1.35L5.41 20z\"/>\n",
              "  </svg>\n",
              "      </button>\n",
              "      \n",
              "  <style>\n",
              "    .colab-df-container {\n",
              "      display:flex;\n",
              "      flex-wrap:wrap;\n",
              "      gap: 12px;\n",
              "    }\n",
              "\n",
              "    .colab-df-convert {\n",
              "      background-color: #E8F0FE;\n",
              "      border: none;\n",
              "      border-radius: 50%;\n",
              "      cursor: pointer;\n",
              "      display: none;\n",
              "      fill: #1967D2;\n",
              "      height: 32px;\n",
              "      padding: 0 0 0 0;\n",
              "      width: 32px;\n",
              "    }\n",
              "\n",
              "    .colab-df-convert:hover {\n",
              "      background-color: #E2EBFA;\n",
              "      box-shadow: 0px 1px 2px rgba(60, 64, 67, 0.3), 0px 1px 3px 1px rgba(60, 64, 67, 0.15);\n",
              "      fill: #174EA6;\n",
              "    }\n",
              "\n",
              "    [theme=dark] .colab-df-convert {\n",
              "      background-color: #3B4455;\n",
              "      fill: #D2E3FC;\n",
              "    }\n",
              "\n",
              "    [theme=dark] .colab-df-convert:hover {\n",
              "      background-color: #434B5C;\n",
              "      box-shadow: 0px 1px 3px 1px rgba(0, 0, 0, 0.15);\n",
              "      filter: drop-shadow(0px 1px 2px rgba(0, 0, 0, 0.3));\n",
              "      fill: #FFFFFF;\n",
              "    }\n",
              "  </style>\n",
              "\n",
              "      <script>\n",
              "        const buttonEl =\n",
              "          document.querySelector('#df-8dde089d-b1d6-4367-9f97-082f13ee4edc button.colab-df-convert');\n",
              "        buttonEl.style.display =\n",
              "          google.colab.kernel.accessAllowed ? 'block' : 'none';\n",
              "\n",
              "        async function convertToInteractive(key) {\n",
              "          const element = document.querySelector('#df-8dde089d-b1d6-4367-9f97-082f13ee4edc');\n",
              "          const dataTable =\n",
              "            await google.colab.kernel.invokeFunction('convertToInteractive',\n",
              "                                                     [key], {});\n",
              "          if (!dataTable) return;\n",
              "\n",
              "          const docLinkHtml = 'Like what you see? Visit the ' +\n",
              "            '<a target=\"_blank\" href=https://colab.research.google.com/notebooks/data_table.ipynb>data table notebook</a>'\n",
              "            + ' to learn more about interactive tables.';\n",
              "          element.innerHTML = '';\n",
              "          dataTable['output_type'] = 'display_data';\n",
              "          await google.colab.output.renderOutput(dataTable, element);\n",
              "          const docLink = document.createElement('div');\n",
              "          docLink.innerHTML = docLinkHtml;\n",
              "          element.appendChild(docLink);\n",
              "        }\n",
              "      </script>\n",
              "    </div>\n",
              "  </div>\n",
              "  "
            ]
          },
          "metadata": {},
          "execution_count": 64
        }
      ]
    },
    {
      "cell_type": "markdown",
      "source": [
        "#**3- Get some information about our dataset :**"
      ],
      "metadata": {
        "id": "GMideZKl2_Rm"
      }
    },
    {
      "cell_type": "code",
      "source": [
        "#showing us number of rows and columns.\n",
        "Covid_dataset.shape     "
      ],
      "metadata": {
        "colab": {
          "base_uri": "https://localhost:8080/"
        },
        "id": "35MuvxKKyB6X",
        "outputId": "ae5cccb0-9cdb-49d0-c76c-8e36d95f6d04"
      },
      "execution_count": 65,
      "outputs": [
        {
          "output_type": "execute_result",
          "data": {
            "text/plain": [
              "(566602, 23)"
            ]
          },
          "metadata": {},
          "execution_count": 65
        }
      ]
    },
    {
      "cell_type": "code",
      "source": [
        "#from this line we will knwo some infos about our dataset \n",
        "Covid_dataset.info()"
      ],
      "metadata": {
        "colab": {
          "base_uri": "https://localhost:8080/"
        },
        "id": "urM2h9NU_xHi",
        "outputId": "74a0ade0-bdfa-4cc0-8434-f6abe9409f75"
      },
      "execution_count": 66,
      "outputs": [
        {
          "output_type": "stream",
          "name": "stdout",
          "text": [
            "<class 'pandas.core.frame.DataFrame'>\n",
            "RangeIndex: 566602 entries, 0 to 566601\n",
            "Data columns (total 23 columns):\n",
            " #   Column               Non-Null Count   Dtype \n",
            "---  ------               --------------   ----- \n",
            " 0   id                   566602 non-null  object\n",
            " 1   sex                  566602 non-null  int64 \n",
            " 2   patient_type         566602 non-null  int64 \n",
            " 3   entry_date           566602 non-null  object\n",
            " 4   date_symptoms        566602 non-null  object\n",
            " 5   date_died            566602 non-null  object\n",
            " 6   intubed              566602 non-null  int64 \n",
            " 7   pneumonia            566602 non-null  int64 \n",
            " 8   age                  566602 non-null  int64 \n",
            " 9   pregnancy            566602 non-null  int64 \n",
            " 10  diabetes             566602 non-null  int64 \n",
            " 11  copd                 566602 non-null  int64 \n",
            " 12  asthma               566602 non-null  int64 \n",
            " 13  inmsupr              566602 non-null  int64 \n",
            " 14  hypertension         566602 non-null  int64 \n",
            " 15  other_disease        566602 non-null  int64 \n",
            " 16  cardiovascular       566602 non-null  int64 \n",
            " 17  obesity              566602 non-null  int64 \n",
            " 18  renal_chronic        566602 non-null  int64 \n",
            " 19  tobacco              566602 non-null  int64 \n",
            " 20  contact_other_covid  566602 non-null  int64 \n",
            " 21  covid_res            566602 non-null  int64 \n",
            " 22  icu                  566602 non-null  int64 \n",
            "dtypes: int64(19), object(4)\n",
            "memory usage: 99.4+ MB\n"
          ]
        }
      ]
    },
    {
      "cell_type": "code",
      "source": [
        "#describing our dataset like max,min and so on.....\n",
        "Covid_dataset['age'].describe()"
      ],
      "metadata": {
        "colab": {
          "base_uri": "https://localhost:8080/"
        },
        "id": "GvmQzU85_75M",
        "outputId": "43f798da-59d1-40ae-ee11-c947e92a1c87"
      },
      "execution_count": 67,
      "outputs": [
        {
          "output_type": "execute_result",
          "data": {
            "text/plain": [
              "count    566602.000000\n",
              "mean         42.622483\n",
              "std          16.659973\n",
              "min           0.000000\n",
              "25%          31.000000\n",
              "50%          41.000000\n",
              "75%          53.000000\n",
              "max         120.000000\n",
              "Name: age, dtype: float64"
            ]
          },
          "metadata": {},
          "execution_count": 67
        }
      ]
    },
    {
      "cell_type": "code",
      "source": [
        "#from this line we know our columns\n",
        "Covid_dataset.columns"
      ],
      "metadata": {
        "colab": {
          "base_uri": "https://localhost:8080/"
        },
        "id": "N_0ESfWjAAMk",
        "outputId": "d4d7c56b-7dd5-45e1-9d17-5ccb30834d3b"
      },
      "execution_count": 68,
      "outputs": [
        {
          "output_type": "execute_result",
          "data": {
            "text/plain": [
              "Index(['id', 'sex', 'patient_type', 'entry_date', 'date_symptoms', 'date_died',\n",
              "       'intubed', 'pneumonia', 'age', 'pregnancy', 'diabetes', 'copd',\n",
              "       'asthma', 'inmsupr', 'hypertension', 'other_disease', 'cardiovascular',\n",
              "       'obesity', 'renal_chronic', 'tobacco', 'contact_other_covid',\n",
              "       'covid_res', 'icu'],\n",
              "      dtype='object')"
            ]
          },
          "metadata": {},
          "execution_count": 68
        }
      ]
    },
    {
      "cell_type": "code",
      "source": [
        "#Check if we hava missing data in our dataset and count it :\n",
        "# this line to see if we have missing value and it is clear that no missing value in our dataset\n",
        "Covid_dataset.isnull().sum()"
      ],
      "metadata": {
        "colab": {
          "base_uri": "https://localhost:8080/"
        },
        "id": "k7ht67qyAGMk",
        "outputId": "9305d477-ec28-4cb2-ad19-5a4122b06e96"
      },
      "execution_count": 69,
      "outputs": [
        {
          "output_type": "execute_result",
          "data": {
            "text/plain": [
              "id                     0\n",
              "sex                    0\n",
              "patient_type           0\n",
              "entry_date             0\n",
              "date_symptoms          0\n",
              "date_died              0\n",
              "intubed                0\n",
              "pneumonia              0\n",
              "age                    0\n",
              "pregnancy              0\n",
              "diabetes               0\n",
              "copd                   0\n",
              "asthma                 0\n",
              "inmsupr                0\n",
              "hypertension           0\n",
              "other_disease          0\n",
              "cardiovascular         0\n",
              "obesity                0\n",
              "renal_chronic          0\n",
              "tobacco                0\n",
              "contact_other_covid    0\n",
              "covid_res              0\n",
              "icu                    0\n",
              "dtype: int64"
            ]
          },
          "metadata": {},
          "execution_count": 69
        }
      ]
    },
    {
      "cell_type": "code",
      "source": [
        "#showin the unique age for patients\n",
        "Covid_dataset['age'].unique()"
      ],
      "metadata": {
        "colab": {
          "base_uri": "https://localhost:8080/"
        },
        "id": "zgNKoE3TJzKY",
        "outputId": "34c21aa1-625c-4e06-8e6f-07155da4eafa"
      },
      "execution_count": 70,
      "outputs": [
        {
          "output_type": "execute_result",
          "data": {
            "text/plain": [
              "array([ 27,  24,  54,  30,  60,  47,  63,  56,  41,  39,  46,  45,  28,\n",
              "        34,  38,  49,  25,  40,  61,  31,  33,  52,  83,  43,  77,  37,\n",
              "        32,  53,  42,  57,  48,  59,  44,  65,  73,  71,  51,  50,  35,\n",
              "        67,  55,  78,  29,  79,  36,  66,  74,  58,  84,  26,  80,   3,\n",
              "        75,  68,  87,  69,  89,  76,  62,  18,  23,  70,  17,  72,   0,\n",
              "        81,  64,  88,  20,  15,  22,  14,  16,  86,  92,  90,  82,   5,\n",
              "         7,  11,  21,  85,  95,  19,   1,   4,  97,  10,  93,   9,   8,\n",
              "        12,  13,   6,  91,   2,  98,  96,  94, 100, 119, 101,  99, 103,\n",
              "       114, 106, 120, 105, 102, 116, 104, 118, 109, 110, 117, 115, 113,\n",
              "       108, 107, 111])"
            ]
          },
          "metadata": {},
          "execution_count": 70
        }
      ]
    },
    {
      "cell_type": "markdown",
      "source": [
        "# **4- A study on each column.**"
      ],
      "metadata": {
        "id": "NyCSSCDi4JfC"
      }
    },
    {
      "cell_type": "code",
      "source": [
        "#this code line to know the number of patients ( 1 for female and 2 for male )\n",
        "#from here it is clear that number of male is more than number of female.\n",
        "Covid_dataset['sex'].value_counts()"
      ],
      "metadata": {
        "colab": {
          "base_uri": "https://localhost:8080/"
        },
        "id": "RBfvEorbDPEG",
        "outputId": "b3e66585-9daa-40be-cf7d-66a191b74168"
      },
      "execution_count": 71,
      "outputs": [
        {
          "output_type": "execute_result",
          "data": {
            "text/plain": [
              "2    287112\n",
              "1    279490\n",
              "Name: sex, dtype: int64"
            ]
          },
          "metadata": {},
          "execution_count": 71
        }
      ]
    },
    {
      "cell_type": "code",
      "source": [
        "#plotting sex columns and its clear from plotting that male more than female.\n",
        "#we notice here that men more infection by covid19 because their work outside... and the differance is not that big \n",
        "#Covid_dataset[\"sex\"].value_counts().plot.bar()\n",
        "b=sns.countplot(Covid_dataset['sex'],palette='hls')\n",
        "b.axes.set_title('Male vs Female',fontsize=14)\n",
        "plt.show()"
      ],
      "metadata": {
        "colab": {
          "base_uri": "https://localhost:8080/",
          "height": 351
        },
        "id": "pnVq3LGDGnyJ",
        "outputId": "2e0848d9-9d0e-47fe-f925-5d366499b523"
      },
      "execution_count": 72,
      "outputs": [
        {
          "output_type": "stream",
          "name": "stderr",
          "text": [
            "/usr/local/lib/python3.8/dist-packages/seaborn/_decorators.py:36: FutureWarning: Pass the following variable as a keyword arg: x. From version 0.12, the only valid positional argument will be `data`, and passing other arguments without an explicit keyword will result in an error or misinterpretation.\n",
            "  warnings.warn(\n"
          ]
        },
        {
          "output_type": "display_data",
          "data": {
            "text/plain": [
              "<Figure size 432x288 with 1 Axes>"
            ],
            "image/png": "[encoded data removed]"
          },
          "metadata": {
            "needs_background": "light"
          }
        }
      ]
    },
    {
      "cell_type": "code",
      "source": [
        "#this code line to know the type of patient 1 for not hospitalized and 2 for hospitalized\n",
        "#frome here we notice that patient who they are not hospitalized more than who they are hospitalized\n",
        "Covid_dataset['patient_type'].value_counts()"
      ],
      "metadata": {
        "colab": {
          "base_uri": "https://localhost:8080/"
        },
        "id": "GvmTcKYwEGjc",
        "outputId": "2ce6fbc1-fa91-448b-e7d2-1fdc89d38233"
      },
      "execution_count": 73,
      "outputs": [
        {
          "output_type": "execute_result",
          "data": {
            "text/plain": [
              "1    444689\n",
              "2    121913\n",
              "Name: patient_type, dtype: int64"
            ]
          },
          "metadata": {},
          "execution_count": 73
        }
      ]
    },
    {
      "cell_type": "code",
      "source": [
        "# Drawing the count plot patient type :\n",
        "#Note 1=not hospitalized and 2=hosptalized\n",
        "# also from plotting we notice that patient who they are not hospitalized more than who they are hospitalized\n",
        "b=sns.countplot(Covid_dataset['patient_type'],palette='hls')\n",
        "b.axes.set_title('not hospitalized vs hosptalized ',fontsize=14)\n",
        "plt.show()"
      ],
      "metadata": {
        "colab": {
          "base_uri": "https://localhost:8080/",
          "height": 352
        },
        "id": "zuwwvKv86y9V",
        "outputId": "9077c78e-fffb-4ffe-ab34-f110bb6fb998"
      },
      "execution_count": 74,
      "outputs": [
        {
          "output_type": "stream",
          "name": "stderr",
          "text": [
            "/usr/local/lib/python3.8/dist-packages/seaborn/_decorators.py:36: FutureWarning: Pass the following variable as a keyword arg: x. From version 0.12, the only valid positional argument will be `data`, and passing other arguments without an explicit keyword will result in an error or misinterpretation.\n",
            "  warnings.warn(\n"
          ]
        },
        {
          "output_type": "display_data",
          "data": {
            "text/plain": [
              "<Figure size 432x288 with 1 Axes>"
            ],
            "image/png": "[encoded data removed]"
          },
          "metadata": {
            "needs_background": "light"
          }
        }
      ]
    },
    {
      "cell_type": "code",
      "source": [
        "#displaying age and covid_res columns\n",
        "Covid_dataset[['age', 'covid_res']]"
      ],
      "metadata": {
        "colab": {
          "base_uri": "https://localhost:8080/",
          "height": 424
        },
        "id": "vDKMX1AkFqY_",
        "outputId": "d0611ff3-9c82-42ae-ce32-85a217251984"
      },
      "execution_count": 75,
      "outputs": [
        {
          "output_type": "execute_result",
          "data": {
            "text/plain": [
              "        age  covid_res\n",
              "0        27          1\n",
              "1        24          1\n",
              "2        54          1\n",
              "3        30          1\n",
              "4        60          1\n",
              "...     ...        ...\n",
              "566597   58          3\n",
              "566598   48          3\n",
              "566599   49          3\n",
              "566600   43          3\n",
              "566601   65          3\n",
              "\n",
              "[566602 rows x 2 columns]"
            ],
            "text/html": [
              "\n",
              "  <div id=\"df-bbead081-65f0-4d22-ad03-ea135793e411\">\n",
              "    <div class=\"colab-df-container\">\n",
              "      <div>\n",
              "<style scoped>\n",
              "    .dataframe tbody tr th:only-of-type {\n",
              "        vertical-align: middle;\n",
              "    }\n",
              "\n",
              "    .dataframe tbody tr th {\n",
              "        vertical-align: top;\n",
              "    }\n",
              "\n",
              "    .dataframe thead th {\n",
              "        text-align: right;\n",
              "    }\n",
              "</style>\n",
              "<table border=\"1\" class=\"dataframe\">\n",
              "  <thead>\n",
              "    <tr style=\"text-align: right;\">\n",
              "      <th></th>\n",
              "      <th>age</th>\n",
              "      <th>covid_res</th>\n",
              "    </tr>\n",
              "  </thead>\n",
              "  <tbody>\n",
              "    <tr>\n",
              "      <th>0</th>\n",
              "      <td>27</td>\n",
              "      <td>1</td>\n",
              "    </tr>\n",
              "    <tr>\n",
              "      <th>1</th>\n",
              "      <td>24</td>\n",
              "      <td>1</td>\n",
              "    </tr>\n",
              "    <tr>\n",
              "      <th>2</th>\n",
              "      <td>54</td>\n",
              "      <td>1</td>\n",
              "    </tr>\n",
              "    <tr>\n",
              "      <th>3</th>\n",
              "      <td>30</td>\n",
              "      <td>1</td>\n",
              "    </tr>\n",
              "    <tr>\n",
              "      <th>4</th>\n",
              "      <td>60</td>\n",
              "      <td>1</td>\n",
              "    </tr>\n",
              "    <tr>\n",
              "      <th>...</th>\n",
              "      <td>...</td>\n",
              "      <td>...</td>\n",
              "    </tr>\n",
              "    <tr>\n",
              "      <th>566597</th>\n",
              "      <td>58</td>\n",
              "      <td>3</td>\n",
              "    </tr>\n",
              "    <tr>\n",
              "      <th>566598</th>\n",
              "      <td>48</td>\n",
              "      <td>3</td>\n",
              "    </tr>\n",
              "    <tr>\n",
              "      <th>566599</th>\n",
              "      <td>49</td>\n",
              "      <td>3</td>\n",
              "    </tr>\n",
              "    <tr>\n",
              "      <th>566600</th>\n",
              "      <td>43</td>\n",
              "      <td>3</td>\n",
              "    </tr>\n",
              "    <tr>\n",
              "      <th>566601</th>\n",
              "      <td>65</td>\n",
              "      <td>3</td>\n",
              "    </tr>\n",
              "  </tbody>\n",
              "</table>\n",
              "<p>566602 rows × 2 columns</p>\n",
              "</div>\n",
              "      <button class=\"colab-df-convert\" onclick=\"convertToInteractive('df-bbead081-65f0-4d22-ad03-ea135793e411')\"\n",
              "              title=\"Convert this dataframe to an interactive table.\"\n",
              "              style=\"display:none;\">\n",
              "        \n",
              "  <svg xmlns=\"http://www.w3.org/2000/svg\" height=\"24px\"viewBox=\"0 0 24 24\"\n",
              "       width=\"24px\">\n",
              "    <path d=\"M0 0h24v24H0V0z\" fill=\"none\"/>\n",
              "    <path d=\"M18.56 5.44l.94 2.06.94-2.06 2.06-.94-2.06-.94-.94-2.06-.94 2.06-2.06.94zm-11 1L8.5 8.5l.94-2.06 2.06-.94-2.06-.94L8.5 2.5l-.94 2.06-2.06.94zm10 10l.94 2.06.94-2.06 2.06-.94-2.06-.94-.94-2.06-.94 2.06-2.06.94z\"/><path d=\"M17.41 7.96l-1.37-1.37c-.4-.4-.92-.59-1.43-.59-.52 0-1.04.2-1.43.59L10.3 9.45l-7.72 7.72c-.78.78-.78 2.05 0 2.83L4 21.41c.39.39.9.59 1.41.59.51 0 1.02-.2 1.41-.59l7.78-7.78 2.81-2.81c.8-.78.8-2.07 0-2.86zM5.41 20L4 18.59l7.72-7.72 1.47 1.35L5.41 20z\"/>\n",
              "  </svg>\n",
              "      </button>\n",
              "      \n",
              "  <style>\n",
              "    .colab-df-container {\n",
              "      display:flex;\n",
              "      flex-wrap:wrap;\n",
              "      gap: 12px;\n",
              "    }\n",
              "\n",
              "    .colab-df-convert {\n",
              "      background-color: #E8F0FE;\n",
              "      border: none;\n",
              "      border-radius: 50%;\n",
              "      cursor: pointer;\n",
              "      display: none;\n",
              "      fill: #1967D2;\n",
              "      height: 32px;\n",
              "      padding: 0 0 0 0;\n",
              "      width: 32px;\n",
              "    }\n",
              "\n",
              "    .colab-df-convert:hover {\n",
              "      background-color: #E2EBFA;\n",
              "      box-shadow: 0px 1px 2px rgba(60, 64, 67, 0.3), 0px 1px 3px 1px rgba(60, 64, 67, 0.15);\n",
              "      fill: #174EA6;\n",
              "    }\n",
              "\n",
              "    [theme=dark] .colab-df-convert {\n",
              "      background-color: #3B4455;\n",
              "      fill: #D2E3FC;\n",
              "    }\n",
              "\n",
              "    [theme=dark] .colab-df-convert:hover {\n",
              "      background-color: #434B5C;\n",
              "      box-shadow: 0px 1px 3px 1px rgba(0, 0, 0, 0.15);\n",
              "      filter: drop-shadow(0px 1px 2px rgba(0, 0, 0, 0.3));\n",
              "      fill: #FFFFFF;\n",
              "    }\n",
              "  </style>\n",
              "\n",
              "      <script>\n",
              "        const buttonEl =\n",
              "          document.querySelector('#df-bbead081-65f0-4d22-ad03-ea135793e411 button.colab-df-convert');\n",
              "        buttonEl.style.display =\n",
              "          google.colab.kernel.accessAllowed ? 'block' : 'none';\n",
              "\n",
              "        async function convertToInteractive(key) {\n",
              "          const element = document.querySelector('#df-bbead081-65f0-4d22-ad03-ea135793e411');\n",
              "          const dataTable =\n",
              "            await google.colab.kernel.invokeFunction('convertToInteractive',\n",
              "                                                     [key], {});\n",
              "          if (!dataTable) return;\n",
              "\n",
              "          const docLinkHtml = 'Like what you see? Visit the ' +\n",
              "            '<a target=\"_blank\" href=https://colab.research.google.com/notebooks/data_table.ipynb>data table notebook</a>'\n",
              "            + ' to learn more about interactive tables.';\n",
              "          element.innerHTML = '';\n",
              "          dataTable['output_type'] = 'display_data';\n",
              "          await google.colab.output.renderOutput(dataTable, element);\n",
              "          const docLink = document.createElement('div');\n",
              "          docLink.innerHTML = docLinkHtml;\n",
              "          element.appendChild(docLink);\n",
              "        }\n",
              "      </script>\n",
              "    </div>\n",
              "  </div>\n",
              "  "
            ]
          },
          "metadata": {},
          "execution_count": 75
        }
      ]
    },
    {
      "cell_type": "code",
      "source": [
        "#we drop five columns because they are not important....\n",
        "Covid_dataset.drop(columns={'entry_date','date_symptoms','id'},axis=1,inplace=True)"
      ],
      "metadata": {
        "id": "QIeHnGFgJiO4"
      },
      "execution_count": 76,
      "outputs": []
    },
    {
      "cell_type": "code",
      "source": [
        "##showing us number of rows and columns.\n",
        "#here number of columns became 20\n",
        "Covid_dataset.shape"
      ],
      "metadata": {
        "colab": {
          "base_uri": "https://localhost:8080/"
        },
        "id": "WUzdFL4fJqQA",
        "outputId": "97fd0aaf-e438-48fc-daad-fb8607375e56"
      },
      "execution_count": 77,
      "outputs": [
        {
          "output_type": "execute_result",
          "data": {
            "text/plain": [
              "(566602, 20)"
            ]
          },
          "metadata": {},
          "execution_count": 77
        }
      ]
    },
    {
      "cell_type": "code",
      "source": [
        "#TEST RESULT( 1 for positive  ,   2 for negative , 3 for awaitinga)\n",
        "Covid_dataset['covid_res'].value_counts()"
      ],
      "metadata": {
        "colab": {
          "base_uri": "https://localhost:8080/"
        },
        "id": "mm6TnkViGzZe",
        "outputId": "3e594b58-ba81-47bd-9ba5-82502d892618"
      },
      "execution_count": 78,
      "outputs": [
        {
          "output_type": "execute_result",
          "data": {
            "text/plain": [
              "2    279035\n",
              "1    220657\n",
              "3     66910\n",
              "Name: covid_res, dtype: int64"
            ]
          },
          "metadata": {},
          "execution_count": 78
        }
      ]
    },
    {
      "cell_type": "code",
      "source": [
        "#Drawing count plot of covid result\n",
        "b=sns.countplot(Covid_dataset['covid_res'],palette='hls')\n",
        "b.axes.set_title('covid result positive,negative,waiting',fontsize=14)\n",
        "plt.show()"
      ],
      "metadata": {
        "colab": {
          "base_uri": "https://localhost:8080/",
          "height": 352
        },
        "id": "he3k4dZR7l6d",
        "outputId": "ede9c947-f6ad-4885-a1d6-27bbd56fd8a6"
      },
      "execution_count": 79,
      "outputs": [
        {
          "output_type": "stream",
          "name": "stderr",
          "text": [
            "/usr/local/lib/python3.8/dist-packages/seaborn/_decorators.py:36: FutureWarning: Pass the following variable as a keyword arg: x. From version 0.12, the only valid positional argument will be `data`, and passing other arguments without an explicit keyword will result in an error or misinterpretation.\n",
            "  warnings.warn(\n"
          ]
        },
        {
          "output_type": "display_data",
          "data": {
            "text/plain": [
              "<Figure size 432x288 with 1 Axes>"
            ],
            "image/png": "[encoded data removed]"
          },
          "metadata": {
            "needs_background": "light"
          }
        }
      ]
    },
    {
      "cell_type": "code",
      "source": [
        "#TEST RESULT( 1 for positive  ,   0 for negative , 2 for awaitinga)\n",
        "Covid_dataset['covid_res'].replace([1,2,3],[1,0,2],inplace=True)\n",
        "Covid_dataset['covid_res'].value_counts().to_frame()"
      ],
      "metadata": {
        "colab": {
          "base_uri": "https://localhost:8080/",
          "height": 143
        },
        "id": "Q5RNtZ1EOr29",
        "outputId": "8568e0e9-6332-4213-e720-89240b73709e"
      },
      "execution_count": 80,
      "outputs": [
        {
          "output_type": "execute_result",
          "data": {
            "text/plain": [
              "   covid_res\n",
              "0     279035\n",
              "1     220657\n",
              "2      66910"
            ],
            "text/html": [
              "\n",
              "  <div id=\"df-d95aba5d-6ec6-4334-83bd-bf5800f25451\">\n",
              "    <div class=\"colab-df-container\">\n",
              "      <div>\n",
              "<style scoped>\n",
              "    .dataframe tbody tr th:only-of-type {\n",
              "        vertical-align: middle;\n",
              "    }\n",
              "\n",
              "    .dataframe tbody tr th {\n",
              "        vertical-align: top;\n",
              "    }\n",
              "\n",
              "    .dataframe thead th {\n",
              "        text-align: right;\n",
              "    }\n",
              "</style>\n",
              "<table border=\"1\" class=\"dataframe\">\n",
              "  <thead>\n",
              "    <tr style=\"text-align: right;\">\n",
              "      <th></th>\n",
              "      <th>covid_res</th>\n",
              "    </tr>\n",
              "  </thead>\n",
              "  <tbody>\n",
              "    <tr>\n",
              "      <th>0</th>\n",
              "      <td>279035</td>\n",
              "    </tr>\n",
              "    <tr>\n",
              "      <th>1</th>\n",
              "      <td>220657</td>\n",
              "    </tr>\n",
              "    <tr>\n",
              "      <th>2</th>\n",
              "      <td>66910</td>\n",
              "    </tr>\n",
              "  </tbody>\n",
              "</table>\n",
              "</div>\n",
              "      <button class=\"colab-df-convert\" onclick=\"convertToInteractive('df-d95aba5d-6ec6-4334-83bd-bf5800f25451')\"\n",
              "              title=\"Convert this dataframe to an interactive table.\"\n",
              "              style=\"display:none;\">\n",
              "        \n",
              "  <svg xmlns=\"http://www.w3.org/2000/svg\" height=\"24px\"viewBox=\"0 0 24 24\"\n",
              "       width=\"24px\">\n",
              "    <path d=\"M0 0h24v24H0V0z\" fill=\"none\"/>\n",
              "    <path d=\"M18.56 5.44l.94 2.06.94-2.06 2.06-.94-2.06-.94-.94-2.06-.94 2.06-2.06.94zm-11 1L8.5 8.5l.94-2.06 2.06-.94-2.06-.94L8.5 2.5l-.94 2.06-2.06.94zm10 10l.94 2.06.94-2.06 2.06-.94-2.06-.94-.94-2.06-.94 2.06-2.06.94z\"/><path d=\"M17.41 7.96l-1.37-1.37c-.4-.4-.92-.59-1.43-.59-.52 0-1.04.2-1.43.59L10.3 9.45l-7.72 7.72c-.78.78-.78 2.05 0 2.83L4 21.41c.39.39.9.59 1.41.59.51 0 1.02-.2 1.41-.59l7.78-7.78 2.81-2.81c.8-.78.8-2.07 0-2.86zM5.41 20L4 18.59l7.72-7.72 1.47 1.35L5.41 20z\"/>\n",
              "  </svg>\n",
              "      </button>\n",
              "      \n",
              "  <style>\n",
              "    .colab-df-container {\n",
              "      display:flex;\n",
              "      flex-wrap:wrap;\n",
              "      gap: 12px;\n",
              "    }\n",
              "\n",
              "    .colab-df-convert {\n",
              "      background-color: #E8F0FE;\n",
              "      border: none;\n",
              "      border-radius: 50%;\n",
              "      cursor: pointer;\n",
              "      display: none;\n",
              "      fill: #1967D2;\n",
              "      height: 32px;\n",
              "      padding: 0 0 0 0;\n",
              "      width: 32px;\n",
              "    }\n",
              "\n",
              "    .colab-df-convert:hover {\n",
              "      background-color: #E2EBFA;\n",
              "      box-shadow: 0px 1px 2px rgba(60, 64, 67, 0.3), 0px 1px 3px 1px rgba(60, 64, 67, 0.15);\n",
              "      fill: #174EA6;\n",
              "    }\n",
              "\n",
              "    [theme=dark] .colab-df-convert {\n",
              "      background-color: #3B4455;\n",
              "      fill: #D2E3FC;\n",
              "    }\n",
              "\n",
              "    [theme=dark] .colab-df-convert:hover {\n",
              "      background-color: #434B5C;\n",
              "      box-shadow: 0px 1px 3px 1px rgba(0, 0, 0, 0.15);\n",
              "      filter: drop-shadow(0px 1px 2px rgba(0, 0, 0, 0.3));\n",
              "      fill: #FFFFFF;\n",
              "    }\n",
              "  </style>\n",
              "\n",
              "      <script>\n",
              "        const buttonEl =\n",
              "          document.querySelector('#df-d95aba5d-6ec6-4334-83bd-bf5800f25451 button.colab-df-convert');\n",
              "        buttonEl.style.display =\n",
              "          google.colab.kernel.accessAllowed ? 'block' : 'none';\n",
              "\n",
              "        async function convertToInteractive(key) {\n",
              "          const element = document.querySelector('#df-d95aba5d-6ec6-4334-83bd-bf5800f25451');\n",
              "          const dataTable =\n",
              "            await google.colab.kernel.invokeFunction('convertToInteractive',\n",
              "                                                     [key], {});\n",
              "          if (!dataTable) return;\n",
              "\n",
              "          const docLinkHtml = 'Like what you see? Visit the ' +\n",
              "            '<a target=\"_blank\" href=https://colab.research.google.com/notebooks/data_table.ipynb>data table notebook</a>'\n",
              "            + ' to learn more about interactive tables.';\n",
              "          element.innerHTML = '';\n",
              "          dataTable['output_type'] = 'display_data';\n",
              "          await google.colab.output.renderOutput(dataTable, element);\n",
              "          const docLink = document.createElement('div');\n",
              "          docLink.innerHTML = docLinkHtml;\n",
              "          element.appendChild(docLink);\n",
              "        }\n",
              "      </script>\n",
              "    </div>\n",
              "  </div>\n",
              "  "
            ]
          },
          "metadata": {},
          "execution_count": 80
        }
      ]
    },
    {
      "cell_type": "code",
      "source": [
        "#Now here we are dropping all those rows which contains covid_res is awaiting i.e.2 value\n",
        "Covid_dataset=Covid_dataset[Covid_dataset['covid_res']!=2]"
      ],
      "metadata": {
        "id": "S1jRVY7WPVQB"
      },
      "execution_count": 81,
      "outputs": []
    },
    {
      "cell_type": "code",
      "source": [
        "#TEST RESULT( 1 for positive  ,   0 for negative)\n",
        "Covid_dataset['covid_res'].value_counts().to_frame()"
      ],
      "metadata": {
        "colab": {
          "base_uri": "https://localhost:8080/",
          "height": 112
        },
        "id": "0W3dOsTfPsQ4",
        "outputId": "80349bd9-8426-4b85-871a-12855f58d4ac"
      },
      "execution_count": 82,
      "outputs": [
        {
          "output_type": "execute_result",
          "data": {
            "text/plain": [
              "   covid_res\n",
              "0     279035\n",
              "1     220657"
            ],
            "text/html": [
              "\n",
              "  <div id=\"df-1396e629-fc1d-4978-9d4c-c3f099fb3eae\">\n",
              "    <div class=\"colab-df-container\">\n",
              "      <div>\n",
              "<style scoped>\n",
              "    .dataframe tbody tr th:only-of-type {\n",
              "        vertical-align: middle;\n",
              "    }\n",
              "\n",
              "    .dataframe tbody tr th {\n",
              "        vertical-align: top;\n",
              "    }\n",
              "\n",
              "    .dataframe thead th {\n",
              "        text-align: right;\n",
              "    }\n",
              "</style>\n",
              "<table border=\"1\" class=\"dataframe\">\n",
              "  <thead>\n",
              "    <tr style=\"text-align: right;\">\n",
              "      <th></th>\n",
              "      <th>covid_res</th>\n",
              "    </tr>\n",
              "  </thead>\n",
              "  <tbody>\n",
              "    <tr>\n",
              "      <th>0</th>\n",
              "      <td>279035</td>\n",
              "    </tr>\n",
              "    <tr>\n",
              "      <th>1</th>\n",
              "      <td>220657</td>\n",
              "    </tr>\n",
              "  </tbody>\n",
              "</table>\n",
              "</div>\n",
              "      <button class=\"colab-df-convert\" onclick=\"convertToInteractive('df-1396e629-fc1d-4978-9d4c-c3f099fb3eae')\"\n",
              "              title=\"Convert this dataframe to an interactive table.\"\n",
              "              style=\"display:none;\">\n",
              "        \n",
              "  <svg xmlns=\"http://www.w3.org/2000/svg\" height=\"24px\"viewBox=\"0 0 24 24\"\n",
              "       width=\"24px\">\n",
              "    <path d=\"M0 0h24v24H0V0z\" fill=\"none\"/>\n",
              "    <path d=\"M18.56 5.44l.94 2.06.94-2.06 2.06-.94-2.06-.94-.94-2.06-.94 2.06-2.06.94zm-11 1L8.5 8.5l.94-2.06 2.06-.94-2.06-.94L8.5 2.5l-.94 2.06-2.06.94zm10 10l.94 2.06.94-2.06 2.06-.94-2.06-.94-.94-2.06-.94 2.06-2.06.94z\"/><path d=\"M17.41 7.96l-1.37-1.37c-.4-.4-.92-.59-1.43-.59-.52 0-1.04.2-1.43.59L10.3 9.45l-7.72 7.72c-.78.78-.78 2.05 0 2.83L4 21.41c.39.39.9.59 1.41.59.51 0 1.02-.2 1.41-.59l7.78-7.78 2.81-2.81c.8-.78.8-2.07 0-2.86zM5.41 20L4 18.59l7.72-7.72 1.47 1.35L5.41 20z\"/>\n",
              "  </svg>\n",
              "      </button>\n",
              "      \n",
              "  <style>\n",
              "    .colab-df-container {\n",
              "      display:flex;\n",
              "      flex-wrap:wrap;\n",
              "      gap: 12px;\n",
              "    }\n",
              "\n",
              "    .colab-df-convert {\n",
              "      background-color: #E8F0FE;\n",
              "      border: none;\n",
              "      border-radius: 50%;\n",
              "      cursor: pointer;\n",
              "      display: none;\n",
              "      fill: #1967D2;\n",
              "      height: 32px;\n",
              "      padding: 0 0 0 0;\n",
              "      width: 32px;\n",
              "    }\n",
              "\n",
              "    .colab-df-convert:hover {\n",
              "      background-color: #E2EBFA;\n",
              "      box-shadow: 0px 1px 2px rgba(60, 64, 67, 0.3), 0px 1px 3px 1px rgba(60, 64, 67, 0.15);\n",
              "      fill: #174EA6;\n",
              "    }\n",
              "\n",
              "    [theme=dark] .colab-df-convert {\n",
              "      background-color: #3B4455;\n",
              "      fill: #D2E3FC;\n",
              "    }\n",
              "\n",
              "    [theme=dark] .colab-df-convert:hover {\n",
              "      background-color: #434B5C;\n",
              "      box-shadow: 0px 1px 3px 1px rgba(0, 0, 0, 0.15);\n",
              "      filter: drop-shadow(0px 1px 2px rgba(0, 0, 0, 0.3));\n",
              "      fill: #FFFFFF;\n",
              "    }\n",
              "  </style>\n",
              "\n",
              "      <script>\n",
              "        const buttonEl =\n",
              "          document.querySelector('#df-1396e629-fc1d-4978-9d4c-c3f099fb3eae button.colab-df-convert');\n",
              "        buttonEl.style.display =\n",
              "          google.colab.kernel.accessAllowed ? 'block' : 'none';\n",
              "\n",
              "        async function convertToInteractive(key) {\n",
              "          const element = document.querySelector('#df-1396e629-fc1d-4978-9d4c-c3f099fb3eae');\n",
              "          const dataTable =\n",
              "            await google.colab.kernel.invokeFunction('convertToInteractive',\n",
              "                                                     [key], {});\n",
              "          if (!dataTable) return;\n",
              "\n",
              "          const docLinkHtml = 'Like what you see? Visit the ' +\n",
              "            '<a target=\"_blank\" href=https://colab.research.google.com/notebooks/data_table.ipynb>data table notebook</a>'\n",
              "            + ' to learn more about interactive tables.';\n",
              "          element.innerHTML = '';\n",
              "          dataTable['output_type'] = 'display_data';\n",
              "          await google.colab.output.renderOutput(dataTable, element);\n",
              "          const docLink = document.createElement('div');\n",
              "          docLink.innerHTML = docLinkHtml;\n",
              "          element.appendChild(docLink);\n",
              "        }\n",
              "      </script>\n",
              "    </div>\n",
              "  </div>\n",
              "  "
            ]
          },
          "metadata": {},
          "execution_count": 82
        }
      ]
    },
    {
      "cell_type": "code",
      "source": [
        "#plotting covid_res columns and notice that pepole with negative result more those with positive result\n",
        "#Drawing count plot of covid result\n",
        "b=sns.countplot(Covid_dataset['covid_res'],palette='hls')\n",
        "b.axes.set_title('  positive and negative covid result',fontsize=14)\n",
        "plt.show()"
      ],
      "metadata": {
        "colab": {
          "base_uri": "https://localhost:8080/",
          "height": 352
        },
        "id": "4jrz_qGZLWAA",
        "outputId": "09610c6f-2d4d-4c3a-e64a-716765e3eb6c"
      },
      "execution_count": 83,
      "outputs": [
        {
          "output_type": "stream",
          "name": "stderr",
          "text": [
            "/usr/local/lib/python3.8/dist-packages/seaborn/_decorators.py:36: FutureWarning: Pass the following variable as a keyword arg: x. From version 0.12, the only valid positional argument will be `data`, and passing other arguments without an explicit keyword will result in an error or misinterpretation.\n",
            "  warnings.warn(\n"
          ]
        },
        {
          "output_type": "display_data",
          "data": {
            "text/plain": [
              "<Figure size 432x288 with 1 Axes>"
            ],
            "image/png": "[encoded data removed]"
          },
          "metadata": {
            "needs_background": "light"
          }
        }
      ]
    },
    {
      "cell_type": "code",
      "source": [
        "#count the number of Male and Female and see their covid result :\n",
        "#Notes: for sex 1=Female and 2=Male and for covid_res 1=positive and 0=negative \n",
        "plt.figure(figsize=(13,5))\n",
        "plt.subplot(1,4,1)\n",
        "b= sns.countplot('covid_res',hue='sex', data=Covid_dataset,palette='hls')\n",
        "b.axes.set_title(\"Male and Female and their covid results\",fontsize=14)\n",
        "#plt.show()\n",
        "plt.subplot(1,4,4)\n",
        "\n",
        "# count the number of not hospitalized and hosptalized and see their covid result :\n",
        "#Notes: for patient_type 1=not hospitalized and 2=hosptalized and for covid_res 1=positive and 0=negative \n",
        "b= sns.countplot('covid_res',hue='patient_type', data=Covid_dataset,palette='hls')\n",
        "b.axes.set_title(\"not hospitalized and hosptalized and their covid results\",fontsize=12)\n",
        "plt.show()\n"
      ],
      "metadata": {
        "colab": {
          "base_uri": "https://localhost:8080/",
          "height": 441
        },
        "id": "rO7uKgIG8sHX",
        "outputId": "89ba0782-c48d-46a6-c9eb-beb86865de0b"
      },
      "execution_count": 84,
      "outputs": [
        {
          "output_type": "stream",
          "name": "stderr",
          "text": [
            "/usr/local/lib/python3.8/dist-packages/seaborn/_decorators.py:36: FutureWarning: Pass the following variable as a keyword arg: x. From version 0.12, the only valid positional argument will be `data`, and passing other arguments without an explicit keyword will result in an error or misinterpretation.\n",
            "  warnings.warn(\n",
            "/usr/local/lib/python3.8/dist-packages/seaborn/_decorators.py:36: FutureWarning: Pass the following variable as a keyword arg: x. From version 0.12, the only valid positional argument will be `data`, and passing other arguments without an explicit keyword will result in an error or misinterpretation.\n",
            "  warnings.warn(\n"
          ]
        },
        {
          "output_type": "display_data",
          "data": {
            "text/plain": [
              "<Figure size 936x360 with 2 Axes>"
            ],
            "image/png": "[encoded data removed]"
          },
          "metadata": {
            "needs_background": "light"
          }
        }
      ]
    },
    {
      "cell_type": "markdown",
      "source": [
        "# **Counting the number of the patients who died and  recovered:** "
      ],
      "metadata": {
        "id": "oUd_80iyDPg8"
      }
    },
    {
      "cell_type": "code",
      "source": [
        "#we can see here that number of patient who died is less than who recovered...\n",
        "x=len(Covid_dataset.loc[(Covid_dataset['covid_res']==1)])\n",
        "x1=len(Covid_dataset.loc[(Covid_dataset['covid_res']==1 )&(Covid_dataset['date_died']=='9999-99-99'),])\n",
        "x2=len(Covid_dataset.loc[(Covid_dataset['covid_res']==1 )&(Covid_dataset['date_died']!='9999-99-99'),])\n",
        "print(\"-Numbre of the patients stands for recovered is :\",x1,\"from\",x)\n",
        "print(\"-Numbre of the patients died is :\",x2,\"from\",x)"
      ],
      "metadata": {
        "colab": {
          "base_uri": "https://localhost:8080/"
        },
        "id": "YWQFC_Q1DN46",
        "outputId": "7f923703-9f58-4e12-ec85-7935de6a158a"
      },
      "execution_count": 85,
      "outputs": [
        {
          "output_type": "stream",
          "name": "stdout",
          "text": [
            "-Numbre of the patients stands for recovered is : 193536 from 220657\n",
            "-Numbre of the patients died is : 27121 from 220657\n"
          ]
        }
      ]
    },
    {
      "cell_type": "code",
      "source": [
        "d=[x1,x2]\n",
        "l=['stands for recovered','died']\n",
        "mycolors = [\"#67C5CB\",\"#CB6D67\"]\n",
        "plt.pie(d,labels=l,colors=mycolors,explode=[0.1,0])\n",
        "plt.title(\"Died vs stands for recovred\")\n",
        "plt.show()"
      ],
      "metadata": {
        "colab": {
          "base_uri": "https://localhost:8080/",
          "height": 264
        },
        "id": "CrnPTBTsP4qL",
        "outputId": "9730c9a5-8612-4de8-c2dd-165c3db55895"
      },
      "execution_count": 86,
      "outputs": [
        {
          "output_type": "display_data",
          "data": {
            "text/plain": [
              "<Figure size 432x288 with 1 Axes>"
            ],
            "image/png": "[encoded data removed]"
          },
          "metadata": {}
        }
      ]
    },
    {
      "cell_type": "code",
      "source": [
        "#we notice  that age does not greatly affect the day of death\n",
        "# because each patient contracted the disease at a different time from the other,\n",
        "# even staying in the hospital is not affected by age\n",
        "array1=np.array(Covid_dataset.sample(25)['age'])\n",
        "array2=np.array(Covid_dataset.sample(25)['date_died'])\n",
        "array3=np.array(Covid_dataset.sample(25)['patient_type'])\n",
        "xpoints=array1\n",
        "ypoints=array2\n",
        "\n",
        "plt.bar(xpoints,ypoints,color='r')\n",
        "xpoints=array1\n",
        "ypoints2=array3\n",
        "plt.bar(xpoints,ypoints2,color='r' )\n",
        "\n",
        "plt.xlabel(\"Age\")\n",
        "plt.ylabel(\"Date of death and hospitalisation\")\n",
        "\n",
        "plt.title(\"relation between age and date of death and hospitalisation\")\n",
        "plt.legend()"
      ],
      "metadata": {
        "colab": {
          "base_uri": "https://localhost:8080/",
          "height": 330
        },
        "id": "P_Mz-HuCRv50",
        "outputId": "ddeb8af9-8405-40f6-c212-6e4ec77d3e31"
      },
      "execution_count": 87,
      "outputs": [
        {
          "output_type": "stream",
          "name": "stderr",
          "text": [
            "WARNING:matplotlib.legend:No artists with labels found to put in legend.  Note that artists whose label start with an underscore are ignored when legend() is called with no argument.\n"
          ]
        },
        {
          "output_type": "execute_result",
          "data": {
            "text/plain": [
              "<matplotlib.legend.Legend at 0x7f0caed5b5e0>"
            ]
          },
          "metadata": {},
          "execution_count": 87
        },
        {
          "output_type": "display_data",
          "data": {
            "text/plain": [
              "<Figure size 432x288 with 1 Axes>"
            ],
            "image/png": "[encoded data removed]"
          },
          "metadata": {
            "needs_background": "light"
          }
        }
      ]
    },
    {
      "cell_type": "markdown",
      "source": [
        "# Display all columns with its values and showing the value_counts for them..."
      ],
      "metadata": {
        "id": "g9Q97XC8EyHV"
      }
    },
    {
      "cell_type": "code",
      "source": [
        "#here will display all columns with its values and showing the value_counts for them...\n",
        "var=Covid_dataset.columns\n",
        "for i in range(19):\n",
        "    print(Covid_dataset[var[i]].value_counts().to_frame())\n",
        "    print(\"----------------\")"
      ],
      "metadata": {
        "colab": {
          "base_uri": "https://localhost:8080/"
        },
        "id": "jhRGXA7WMhNm",
        "outputId": "417571a2-71a0-4a74-a8d9-75dfd6102343"
      },
      "execution_count": 88,
      "outputs": [
        {
          "output_type": "stream",
          "name": "stdout",
          "text": [
            "      sex\n",
            "2  253098\n",
            "1  246594\n",
            "----------------\n",
            "   patient_type\n",
            "1        392146\n",
            "2        107546\n",
            "----------------\n",
            "            date_died\n",
            "9999-99-99     465571\n",
            "16-06-2020        667\n",
            "08-06-2020        655\n",
            "10-06-2020        642\n",
            "12-06-2020        634\n",
            "...               ...\n",
            "20-03-2020          1\n",
            "08-02-2020          1\n",
            "30-01-2020          1\n",
            "29-01-2020          1\n",
            "12-03-2020          1\n",
            "\n",
            "[124 rows x 1 columns]\n",
            "----------------\n",
            "    intubed\n",
            "97   392146\n",
            "2     98321\n",
            "1      9103\n",
            "99      122\n",
            "----------------\n",
            "    pneumonia\n",
            "2      420965\n",
            "1       78716\n",
            "99         11\n",
            "----------------\n",
            "       age\n",
            "30   12872\n",
            "31   12298\n",
            "36   12292\n",
            "38   12259\n",
            "37   12248\n",
            "..     ...\n",
            "117      1\n",
            "115      1\n",
            "105      1\n",
            "107      1\n",
            "111      1\n",
            "\n",
            "[120 rows x 1 columns]\n",
            "----------------\n",
            "    pregnancy\n",
            "97     253098\n",
            "2      241644\n",
            "1        3614\n",
            "98       1336\n",
            "----------------\n",
            "    diabetes\n",
            "2     435702\n",
            "1      62349\n",
            "98      1641\n",
            "----------------\n",
            "      copd\n",
            "2   489970\n",
            "1     8276\n",
            "98    1446\n",
            "----------------\n",
            "    asthma\n",
            "2   482036\n",
            "1    16214\n",
            "98    1442\n",
            "----------------\n",
            "    inmsupr\n",
            "2    489959\n",
            "1      8071\n",
            "98     1662\n",
            "----------------\n",
            "    hypertension\n",
            "2         416863\n",
            "1          81340\n",
            "98          1489\n",
            "----------------\n",
            "    other_disease\n",
            "2          482107\n",
            "1           15392\n",
            "98           2193\n",
            "----------------\n",
            "    cardiovascular\n",
            "2           486764\n",
            "1            11419\n",
            "98            1509\n",
            "----------------\n",
            "    obesity\n",
            "2    416293\n",
            "1     81929\n",
            "98     1470\n",
            "----------------\n",
            "    renal_chronic\n",
            "2          488197\n",
            "1           10019\n",
            "98           1476\n",
            "----------------\n",
            "    tobacco\n",
            "2    455158\n",
            "1     42955\n",
            "98     1579\n",
            "----------------\n",
            "    contact_other_covid\n",
            "1                196966\n",
            "99               153675\n",
            "2                149051\n",
            "----------------\n",
            "   covid_res\n",
            "0     279035\n",
            "1     220657\n",
            "----------------\n"
          ]
        }
      ]
    },
    {
      "cell_type": "markdown",
      "source": [
        "#**From the coming codes we will try to clean the data and showing that by plotting graphs.......**"
      ],
      "metadata": {
        "id": "J-hEzDyRc0J8"
      }
    },
    {
      "cell_type": "code",
      "source": [
        "#deleting not specified rows(which=97) from intubed columns.\n",
        "Covid_dataset=Covid_dataset[Covid_dataset['intubed']!=97]\n",
        "b=sns.countplot(Covid_dataset['intubed'],palette='hls')\n",
        "b.axes.set_title('Intubed ',fontsize=14)\n",
        "plt.show()"
      ],
      "metadata": {
        "colab": {
          "base_uri": "https://localhost:8080/",
          "height": 351
        },
        "id": "Xp2rQwr8R87d",
        "outputId": "8fec48b1-ac2c-4f53-d26b-4136958b4b99"
      },
      "execution_count": 89,
      "outputs": [
        {
          "output_type": "stream",
          "name": "stderr",
          "text": [
            "/usr/local/lib/python3.8/dist-packages/seaborn/_decorators.py:36: FutureWarning: Pass the following variable as a keyword arg: x. From version 0.12, the only valid positional argument will be `data`, and passing other arguments without an explicit keyword will result in an error or misinterpretation.\n",
            "  warnings.warn(\n"
          ]
        },
        {
          "output_type": "display_data",
          "data": {
            "text/plain": [
              "<Figure size 432x288 with 1 Axes>"
            ],
            "image/png": "[encoded data removed]"
          },
          "metadata": {
            "needs_background": "light"
          }
        }
      ]
    },
    {
      "cell_type": "code",
      "source": [
        "##deleting not specified rows(which=99) from intubed columns.\n",
        "Covid_dataset=Covid_dataset[Covid_dataset['intubed']!=99]\n",
        "Covid_dataset['intubed'].value_counts().to_frame()"
      ],
      "metadata": {
        "colab": {
          "base_uri": "https://localhost:8080/",
          "height": 112
        },
        "id": "-U54A9W7Skkr",
        "outputId": "a0675c36-f354-427c-c4f8-20b6b547468f"
      },
      "execution_count": 90,
      "outputs": [
        {
          "output_type": "execute_result",
          "data": {
            "text/plain": [
              "   intubed\n",
              "2    98321\n",
              "1     9103"
            ],
            "text/html": [
              "\n",
              "  <div id=\"df-c2e81468-5838-400b-b96c-f546e76d0cd1\">\n",
              "    <div class=\"colab-df-container\">\n",
              "      <div>\n",
              "<style scoped>\n",
              "    .dataframe tbody tr th:only-of-type {\n",
              "        vertical-align: middle;\n",
              "    }\n",
              "\n",
              "    .dataframe tbody tr th {\n",
              "        vertical-align: top;\n",
              "    }\n",
              "\n",
              "    .dataframe thead th {\n",
              "        text-align: right;\n",
              "    }\n",
              "</style>\n",
              "<table border=\"1\" class=\"dataframe\">\n",
              "  <thead>\n",
              "    <tr style=\"text-align: right;\">\n",
              "      <th></th>\n",
              "      <th>intubed</th>\n",
              "    </tr>\n",
              "  </thead>\n",
              "  <tbody>\n",
              "    <tr>\n",
              "      <th>2</th>\n",
              "      <td>98321</td>\n",
              "    </tr>\n",
              "    <tr>\n",
              "      <th>1</th>\n",
              "      <td>9103</td>\n",
              "    </tr>\n",
              "  </tbody>\n",
              "</table>\n",
              "</div>\n",
              "      <button class=\"colab-df-convert\" onclick=\"convertToInteractive('df-c2e81468-5838-400b-b96c-f546e76d0cd1')\"\n",
              "              title=\"Convert this dataframe to an interactive table.\"\n",
              "              style=\"display:none;\">\n",
              "        \n",
              "  <svg xmlns=\"http://www.w3.org/2000/svg\" height=\"24px\"viewBox=\"0 0 24 24\"\n",
              "       width=\"24px\">\n",
              "    <path d=\"M0 0h24v24H0V0z\" fill=\"none\"/>\n",
              "    <path d=\"M18.56 5.44l.94 2.06.94-2.06 2.06-.94-2.06-.94-.94-2.06-.94 2.06-2.06.94zm-11 1L8.5 8.5l.94-2.06 2.06-.94-2.06-.94L8.5 2.5l-.94 2.06-2.06.94zm10 10l.94 2.06.94-2.06 2.06-.94-2.06-.94-.94-2.06-.94 2.06-2.06.94z\"/><path d=\"M17.41 7.96l-1.37-1.37c-.4-.4-.92-.59-1.43-.59-.52 0-1.04.2-1.43.59L10.3 9.45l-7.72 7.72c-.78.78-.78 2.05 0 2.83L4 21.41c.39.39.9.59 1.41.59.51 0 1.02-.2 1.41-.59l7.78-7.78 2.81-2.81c.8-.78.8-2.07 0-2.86zM5.41 20L4 18.59l7.72-7.72 1.47 1.35L5.41 20z\"/>\n",
              "  </svg>\n",
              "      </button>\n",
              "      \n",
              "  <style>\n",
              "    .colab-df-container {\n",
              "      display:flex;\n",
              "      flex-wrap:wrap;\n",
              "      gap: 12px;\n",
              "    }\n",
              "\n",
              "    .colab-df-convert {\n",
              "      background-color: #E8F0FE;\n",
              "      border: none;\n",
              "      border-radius: 50%;\n",
              "      cursor: pointer;\n",
              "      display: none;\n",
              "      fill: #1967D2;\n",
              "      height: 32px;\n",
              "      padding: 0 0 0 0;\n",
              "      width: 32px;\n",
              "    }\n",
              "\n",
              "    .colab-df-convert:hover {\n",
              "      background-color: #E2EBFA;\n",
              "      box-shadow: 0px 1px 2px rgba(60, 64, 67, 0.3), 0px 1px 3px 1px rgba(60, 64, 67, 0.15);\n",
              "      fill: #174EA6;\n",
              "    }\n",
              "\n",
              "    [theme=dark] .colab-df-convert {\n",
              "      background-color: #3B4455;\n",
              "      fill: #D2E3FC;\n",
              "    }\n",
              "\n",
              "    [theme=dark] .colab-df-convert:hover {\n",
              "      background-color: #434B5C;\n",
              "      box-shadow: 0px 1px 3px 1px rgba(0, 0, 0, 0.15);\n",
              "      filter: drop-shadow(0px 1px 2px rgba(0, 0, 0, 0.3));\n",
              "      fill: #FFFFFF;\n",
              "    }\n",
              "  </style>\n",
              "\n",
              "      <script>\n",
              "        const buttonEl =\n",
              "          document.querySelector('#df-c2e81468-5838-400b-b96c-f546e76d0cd1 button.colab-df-convert');\n",
              "        buttonEl.style.display =\n",
              "          google.colab.kernel.accessAllowed ? 'block' : 'none';\n",
              "\n",
              "        async function convertToInteractive(key) {\n",
              "          const element = document.querySelector('#df-c2e81468-5838-400b-b96c-f546e76d0cd1');\n",
              "          const dataTable =\n",
              "            await google.colab.kernel.invokeFunction('convertToInteractive',\n",
              "                                                     [key], {});\n",
              "          if (!dataTable) return;\n",
              "\n",
              "          const docLinkHtml = 'Like what you see? Visit the ' +\n",
              "            '<a target=\"_blank\" href=https://colab.research.google.com/notebooks/data_table.ipynb>data table notebook</a>'\n",
              "            + ' to learn more about interactive tables.';\n",
              "          element.innerHTML = '';\n",
              "          dataTable['output_type'] = 'display_data';\n",
              "          await google.colab.output.renderOutput(dataTable, element);\n",
              "          const docLink = document.createElement('div');\n",
              "          docLink.innerHTML = docLinkHtml;\n",
              "          element.appendChild(docLink);\n",
              "        }\n",
              "      </script>\n",
              "    </div>\n",
              "  </div>\n",
              "  "
            ]
          },
          "metadata": {},
          "execution_count": 90
        }
      ]
    },
    {
      "cell_type": "code",
      "source": [
        "##deleting not specified rows(which=99) from pneumonia columns.\n",
        "Covid_dataset=Covid_dataset[Covid_dataset['pneumonia']!=99]\n",
        "b=sns.countplot(Covid_dataset['pneumonia'],palette='hls')\n",
        "b.axes.set_title('Pneumonia ',fontsize=14)\n",
        "plt.show()"
      ],
      "metadata": {
        "colab": {
          "base_uri": "https://localhost:8080/",
          "height": 351
        },
        "id": "-DN-tQHlTCHk",
        "outputId": "e7bc8900-843b-441a-999f-7cedef056192"
      },
      "execution_count": 91,
      "outputs": [
        {
          "output_type": "stream",
          "name": "stderr",
          "text": [
            "/usr/local/lib/python3.8/dist-packages/seaborn/_decorators.py:36: FutureWarning: Pass the following variable as a keyword arg: x. From version 0.12, the only valid positional argument will be `data`, and passing other arguments without an explicit keyword will result in an error or misinterpretation.\n",
            "  warnings.warn(\n"
          ]
        },
        {
          "output_type": "display_data",
          "data": {
            "text/plain": [
              "<Figure size 432x288 with 1 Axes>"
            ],
            "image/png": "[encoded data removed]"
          },
          "metadata": {
            "needs_background": "light"
          }
        }
      ]
    },
    {
      "cell_type": "code",
      "source": [
        "###deleting not specified rows(which=98 &&97) from pregnancy columns.\n",
        "Covid_dataset=Covid_dataset[Covid_dataset['pregnancy']!=97]\n",
        "Covid_dataset=Covid_dataset[Covid_dataset['pregnancy']!=98]\n",
        "b=sns.countplot(Covid_dataset['pregnancy'],palette='hls')\n",
        "b.axes.set_title('Pregnancy ',fontsize=14)\n",
        "plt.show()"
      ],
      "metadata": {
        "colab": {
          "base_uri": "https://localhost:8080/",
          "height": 351
        },
        "id": "7N1-4rY_TjQ-",
        "outputId": "42957347-9230-4394-f28b-3e4cf470c1ae"
      },
      "execution_count": 92,
      "outputs": [
        {
          "output_type": "stream",
          "name": "stderr",
          "text": [
            "/usr/local/lib/python3.8/dist-packages/seaborn/_decorators.py:36: FutureWarning: Pass the following variable as a keyword arg: x. From version 0.12, the only valid positional argument will be `data`, and passing other arguments without an explicit keyword will result in an error or misinterpretation.\n",
            "  warnings.warn(\n"
          ]
        },
        {
          "output_type": "display_data",
          "data": {
            "text/plain": [
              "<Figure size 432x288 with 1 Axes>"
            ],
            "image/png": "[encoded data removed]"
          },
          "metadata": {
            "needs_background": "light"
          }
        }
      ]
    },
    {
      "cell_type": "code",
      "source": [
        "#deleting not specified rows(which=98 ) from diabetes columns.\n",
        "Covid_dataset=Covid_dataset[Covid_dataset['diabetes']!=98]\n",
        "b=sns.countplot(Covid_dataset['diabetes'],palette='hls')\n",
        "b.axes.set_title('Diabetes ',fontsize=14)\n",
        "plt.show()"
      ],
      "metadata": {
        "colab": {
          "base_uri": "https://localhost:8080/",
          "height": 351
        },
        "id": "rhpxEHA8T3Mq",
        "outputId": "73b6f195-4f32-4e64-cc5c-10500db65505"
      },
      "execution_count": 93,
      "outputs": [
        {
          "output_type": "stream",
          "name": "stderr",
          "text": [
            "/usr/local/lib/python3.8/dist-packages/seaborn/_decorators.py:36: FutureWarning: Pass the following variable as a keyword arg: x. From version 0.12, the only valid positional argument will be `data`, and passing other arguments without an explicit keyword will result in an error or misinterpretation.\n",
            "  warnings.warn(\n"
          ]
        },
        {
          "output_type": "display_data",
          "data": {
            "text/plain": [
              "<Figure size 432x288 with 1 Axes>"
            ],
            "image/png": "[encoded data removed]"
          },
          "metadata": {
            "needs_background": "light"
          }
        }
      ]
    },
    {
      "cell_type": "code",
      "source": [
        "#deleting not specified rows(which=98 ) from copd columns.\n",
        "Covid_dataset=Covid_dataset[Covid_dataset['copd']!=98]\n",
        "b=sns.countplot(Covid_dataset['copd'],palette='hls')\n",
        "b.axes.set_title('COPD ',fontsize=14)\n",
        "plt.show()"
      ],
      "metadata": {
        "colab": {
          "base_uri": "https://localhost:8080/",
          "height": 351
        },
        "id": "-AsENm_nUXbw",
        "outputId": "6bcf3113-a7f9-4211-ea35-219918d4e9f2"
      },
      "execution_count": 94,
      "outputs": [
        {
          "output_type": "stream",
          "name": "stderr",
          "text": [
            "/usr/local/lib/python3.8/dist-packages/seaborn/_decorators.py:36: FutureWarning: Pass the following variable as a keyword arg: x. From version 0.12, the only valid positional argument will be `data`, and passing other arguments without an explicit keyword will result in an error or misinterpretation.\n",
            "  warnings.warn(\n"
          ]
        },
        {
          "output_type": "display_data",
          "data": {
            "text/plain": [
              "<Figure size 432x288 with 1 Axes>"
            ],
            "image/png": "[encoded data removed]"
          },
          "metadata": {
            "needs_background": "light"
          }
        }
      ]
    },
    {
      "cell_type": "code",
      "source": [
        "#deleting not specified rows(which=98 ) from asthma columns.\n",
        "Covid_dataset=Covid_dataset[Covid_dataset['asthma']!=98]\n",
        "b=sns.countplot(Covid_dataset['asthma'],palette='hls')\n",
        "b.axes.set_title('Asthma ',fontsize=14)\n",
        "plt.show()"
      ],
      "metadata": {
        "colab": {
          "base_uri": "https://localhost:8080/",
          "height": 351
        },
        "id": "uqb5p4_TUvn9",
        "outputId": "a6cf6bf3-9a44-4523-ef78-503e2f8f34ca"
      },
      "execution_count": 95,
      "outputs": [
        {
          "output_type": "stream",
          "name": "stderr",
          "text": [
            "/usr/local/lib/python3.8/dist-packages/seaborn/_decorators.py:36: FutureWarning: Pass the following variable as a keyword arg: x. From version 0.12, the only valid positional argument will be `data`, and passing other arguments without an explicit keyword will result in an error or misinterpretation.\n",
            "  warnings.warn(\n"
          ]
        },
        {
          "output_type": "display_data",
          "data": {
            "text/plain": [
              "<Figure size 432x288 with 1 Axes>"
            ],
            "image/png": "[encoded data removed]"
          },
          "metadata": {
            "needs_background": "light"
          }
        }
      ]
    },
    {
      "cell_type": "code",
      "source": [
        "#deleting not specified rows(which=98 ) from inmsupr columns.\n",
        "Covid_dataset=Covid_dataset[Covid_dataset['inmsupr']!=98]\n",
        "Covid_dataset['inmsupr'].value_counts().sort_index().plot.bar()\n",
        "plt.title('Inmsupr')"
      ],
      "metadata": {
        "colab": {
          "base_uri": "https://localhost:8080/",
          "height": 295
        },
        "id": "38JQRkZ5VKEE",
        "outputId": "1b66c9ec-008e-49e6-87dc-f1f5e0074865"
      },
      "execution_count": 96,
      "outputs": [
        {
          "output_type": "execute_result",
          "data": {
            "text/plain": [
              "Text(0.5, 1.0, 'Inmsupr')"
            ]
          },
          "metadata": {},
          "execution_count": 96
        },
        {
          "output_type": "display_data",
          "data": {
            "text/plain": [
              "<Figure size 432x288 with 1 Axes>"
            ],
            "image/png": "[encoded data removed]"
          },
          "metadata": {
            "needs_background": "light"
          }
        }
      ]
    },
    {
      "cell_type": "code",
      "source": [
        "#deleting not specified rows(which=98 ) from hypertension columns.\n",
        "Covid_dataset=Covid_dataset[Covid_dataset['hypertension']!=98]\n",
        "b=sns.countplot(Covid_dataset['hypertension'],palette='hls')\n",
        "b.axes.set_title('Hypertension ',fontsize=14)\n",
        "plt.show()\n"
      ],
      "metadata": {
        "colab": {
          "base_uri": "https://localhost:8080/",
          "height": 351
        },
        "id": "bB516GDaVaZc",
        "outputId": "144f5841-9ded-4778-a4fe-306c1ddb0021"
      },
      "execution_count": 97,
      "outputs": [
        {
          "output_type": "stream",
          "name": "stderr",
          "text": [
            "/usr/local/lib/python3.8/dist-packages/seaborn/_decorators.py:36: FutureWarning: Pass the following variable as a keyword arg: x. From version 0.12, the only valid positional argument will be `data`, and passing other arguments without an explicit keyword will result in an error or misinterpretation.\n",
            "  warnings.warn(\n"
          ]
        },
        {
          "output_type": "display_data",
          "data": {
            "text/plain": [
              "<Figure size 432x288 with 1 Axes>"
            ],
            "image/png": "[encoded data removed]"
          },
          "metadata": {
            "needs_background": "light"
          }
        }
      ]
    },
    {
      "cell_type": "code",
      "source": [
        "#deleting not specified rows(which=98 ) from other_disease columns.\n",
        "Covid_dataset=Covid_dataset[Covid_dataset['other_disease']!=98]\n",
        "Covid_dataset['other_disease'].value_counts().sort_index().plot.bar()\n",
        "plt.title('Other Disease')"
      ],
      "metadata": {
        "colab": {
          "base_uri": "https://localhost:8080/",
          "height": 295
        },
        "id": "V6pCLnDZVo_u",
        "outputId": "4fbe8732-2e52-48c2-d64a-00568fc39a9b"
      },
      "execution_count": 98,
      "outputs": [
        {
          "output_type": "execute_result",
          "data": {
            "text/plain": [
              "Text(0.5, 1.0, 'Other Disease')"
            ]
          },
          "metadata": {},
          "execution_count": 98
        },
        {
          "output_type": "display_data",
          "data": {
            "text/plain": [
              "<Figure size 432x288 with 1 Axes>"
            ],
            "image/png": "[encoded data removed]"
          },
          "metadata": {
            "needs_background": "light"
          }
        }
      ]
    },
    {
      "cell_type": "code",
      "source": [
        "#deleting not specified rows(which=98 ) from cardiovascular columns.\n",
        "Covid_dataset=Covid_dataset[Covid_dataset['cardiovascular']!=98]\n",
        "b=sns.countplot(Covid_dataset['cardiovascular'],palette='hls')\n",
        "b.axes.set_title('Cardiovascular ',fontsize=14)\n",
        "plt.show()"
      ],
      "metadata": {
        "colab": {
          "base_uri": "https://localhost:8080/",
          "height": 351
        },
        "id": "ZLUnj4b5WlyM",
        "outputId": "80db578f-a48e-446d-eb39-028e03562760"
      },
      "execution_count": 99,
      "outputs": [
        {
          "output_type": "stream",
          "name": "stderr",
          "text": [
            "/usr/local/lib/python3.8/dist-packages/seaborn/_decorators.py:36: FutureWarning: Pass the following variable as a keyword arg: x. From version 0.12, the only valid positional argument will be `data`, and passing other arguments without an explicit keyword will result in an error or misinterpretation.\n",
            "  warnings.warn(\n"
          ]
        },
        {
          "output_type": "display_data",
          "data": {
            "text/plain": [
              "<Figure size 432x288 with 1 Axes>"
            ],
            "image/png": "[encoded data removed]"
          },
          "metadata": {
            "needs_background": "light"
          }
        }
      ]
    },
    {
      "cell_type": "code",
      "source": [
        "#deleting not specified rows(which=98 ) from obesity columns.\n",
        "Covid_dataset=Covid_dataset[Covid_dataset['obesity']!=98]\n",
        "Covid_dataset['obesity'].value_counts().sort_index().plot.bar()\n",
        "plt.title('Obesity')"
      ],
      "metadata": {
        "colab": {
          "base_uri": "https://localhost:8080/",
          "height": 295
        },
        "id": "6dUvYIikXBh4",
        "outputId": "f7e4bd34-bd94-4459-cc6f-02245c4c1bce"
      },
      "execution_count": 100,
      "outputs": [
        {
          "output_type": "execute_result",
          "data": {
            "text/plain": [
              "Text(0.5, 1.0, 'Obesity')"
            ]
          },
          "metadata": {},
          "execution_count": 100
        },
        {
          "output_type": "display_data",
          "data": {
            "text/plain": [
              "<Figure size 432x288 with 1 Axes>"
            ],
            "image/png": "[encoded data removed]"
          },
          "metadata": {
            "needs_background": "light"
          }
        }
      ]
    },
    {
      "cell_type": "code",
      "source": [
        "#deleting not specified rows(which=98 ) from renal_chronic column.\n",
        "Covid_dataset=Covid_dataset[Covid_dataset['renal_chronic']!=98]\n",
        "b=sns.countplot(Covid_dataset['renal_chronic'],palette='hls')\n",
        "b.axes.set_title('Renal Chronic ',fontsize=14)\n",
        "plt.show()\n"
      ],
      "metadata": {
        "colab": {
          "base_uri": "https://localhost:8080/",
          "height": 352
        },
        "id": "KqBYORcwXRsf",
        "outputId": "d834eea9-ba66-4e43-b2a5-940f9a1d38b6"
      },
      "execution_count": 101,
      "outputs": [
        {
          "output_type": "stream",
          "name": "stderr",
          "text": [
            "/usr/local/lib/python3.8/dist-packages/seaborn/_decorators.py:36: FutureWarning: Pass the following variable as a keyword arg: x. From version 0.12, the only valid positional argument will be `data`, and passing other arguments without an explicit keyword will result in an error or misinterpretation.\n",
            "  warnings.warn(\n"
          ]
        },
        {
          "output_type": "display_data",
          "data": {
            "text/plain": [
              "<Figure size 432x288 with 1 Axes>"
            ],
            "image/png": "[encoded data removed]"
          },
          "metadata": {
            "needs_background": "light"
          }
        }
      ]
    },
    {
      "cell_type": "code",
      "source": [
        "#deleting not specified rows(which=98 ) from tobacco column.\n",
        "Covid_dataset=Covid_dataset[Covid_dataset['tobacco']!=98]\n",
        "Covid_dataset['tobacco'].value_counts().sort_index().plot.bar()\n",
        "plt.title('Tobacco')"
      ],
      "metadata": {
        "colab": {
          "base_uri": "https://localhost:8080/",
          "height": 295
        },
        "id": "6M8xf2-9XnxT",
        "outputId": "49a03118-6351-4943-827d-a2d9f1a68a71"
      },
      "execution_count": 102,
      "outputs": [
        {
          "output_type": "execute_result",
          "data": {
            "text/plain": [
              "Text(0.5, 1.0, 'Tobacco')"
            ]
          },
          "metadata": {},
          "execution_count": 102
        },
        {
          "output_type": "display_data",
          "data": {
            "text/plain": [
              "<Figure size 432x288 with 1 Axes>"
            ],
            "image/png": "[encoded data removed]"
          },
          "metadata": {
            "needs_background": "light"
          }
        }
      ]
    },
    {
      "cell_type": "code",
      "source": [
        "#deleting not specified rows(which=99 ) from contact_other_covid column.\n",
        "Covid_dataset=Covid_dataset[Covid_dataset['contact_other_covid']!=99]\n",
        "b=sns.countplot(Covid_dataset['contact_other_covid'],palette='hls')\n",
        "b.axes.set_title('Contact Other Covid ',fontsize=14)\n",
        "plt.show()\n"
      ],
      "metadata": {
        "colab": {
          "base_uri": "https://localhost:8080/",
          "height": 352
        },
        "id": "cgA_4xkCX-kW",
        "outputId": "a69fc952-1b19-4665-a5ef-d386058c8923"
      },
      "execution_count": 103,
      "outputs": [
        {
          "output_type": "stream",
          "name": "stderr",
          "text": [
            "/usr/local/lib/python3.8/dist-packages/seaborn/_decorators.py:36: FutureWarning: Pass the following variable as a keyword arg: x. From version 0.12, the only valid positional argument will be `data`, and passing other arguments without an explicit keyword will result in an error or misinterpretation.\n",
            "  warnings.warn(\n"
          ]
        },
        {
          "output_type": "display_data",
          "data": {
            "text/plain": [
              "<Figure size 432x288 with 1 Axes>"
            ],
            "image/png": "[encoded data removed]"
          },
          "metadata": {
            "needs_background": "light"
          }
        }
      ]
    },
    {
      "cell_type": "code",
      "source": [
        "#deleting not specified rows(which=99 && 97 ) from icu column.\n",
        "Covid_dataset=Covid_dataset[Covid_dataset['icu']!=97]\n",
        "Covid_dataset=Covid_dataset[Covid_dataset['icu']!=99]\n",
        "Covid_dataset['icu'].value_counts().sort_index().plot.bar()\n",
        "plt.title('ICU')"
      ],
      "metadata": {
        "colab": {
          "base_uri": "https://localhost:8080/",
          "height": 295
        },
        "id": "H7BtgsGFYqT4",
        "outputId": "2ae4531c-0976-4846-c5fe-cdde57d686ee"
      },
      "execution_count": 104,
      "outputs": [
        {
          "output_type": "execute_result",
          "data": {
            "text/plain": [
              "Text(0.5, 1.0, 'ICU')"
            ]
          },
          "metadata": {},
          "execution_count": 104
        },
        {
          "output_type": "display_data",
          "data": {
            "text/plain": [
              "<Figure size 432x288 with 1 Axes>"
            ],
            "image/png": "[encoded data removed]"
          },
          "metadata": {
            "needs_background": "light"
          }
        }
      ]
    },
    {
      "cell_type": "markdown",
      "source": [
        "# **We have removed all unwanted rows**  "
      ],
      "metadata": {
        "id": "H5A4uvoXY6K3"
      }
    },
    {
      "cell_type": "code",
      "source": [
        "Covid_dataset.shape"
      ],
      "metadata": {
        "colab": {
          "base_uri": "https://localhost:8080/"
        },
        "id": "L6pthV8La4sh",
        "outputId": "2b902850-5e7e-4952-c82d-fbe269c2a0da"
      },
      "execution_count": 105,
      "outputs": [
        {
          "output_type": "execute_result",
          "data": {
            "text/plain": [
              "(20352, 20)"
            ]
          },
          "metadata": {},
          "execution_count": 105
        }
      ]
    },
    {
      "cell_type": "code",
      "source": [
        "#displaying first ten rows after cleaning data\n",
        "Covid_dataset.head(10)"
      ],
      "metadata": {
        "colab": {
          "base_uri": "https://localhost:8080/",
          "height": 601
        },
        "id": "7HDLn2wVZOUj",
        "outputId": "faa20a5c-86e1-4c10-dced-b7f96165a5cb"
      },
      "execution_count": 106,
      "outputs": [
        {
          "output_type": "execute_result",
          "data": {
            "text/plain": [
              "     sex  patient_type   date_died  intubed  pneumonia  age  pregnancy  \\\n",
              "21     1             2  9999-99-99        2          2   25          2   \n",
              "30     1             2  9999-99-99        2          2   52          2   \n",
              "71     1             2  9999-99-99        2          1   51          2   \n",
              "79     1             2  9999-99-99        1          1   67          2   \n",
              "93     1             2  9999-99-99        2          1   59          2   \n",
              "215    1             2  9999-99-99        2          2   52          2   \n",
              "298    1             2  9999-99-99        2          1   54          2   \n",
              "308    1             2  18-04-2020        2          1   78          2   \n",
              "311    1             2  9999-99-99        2          1   80          2   \n",
              "319    1             2  9999-99-99        2          2   40          2   \n",
              "\n",
              "     diabetes  copd  asthma  inmsupr  hypertension  other_disease  \\\n",
              "21          2     2       2        2             2              2   \n",
              "30          2     2       2        2             2              2   \n",
              "71          2     2       2        2             2              2   \n",
              "79          1     2       2        2             1              2   \n",
              "93          1     2       2        2             2              2   \n",
              "215         1     2       2        2             1              2   \n",
              "298         2     2       2        2             2              2   \n",
              "308         2     2       2        2             1              2   \n",
              "311         1     2       2        2             1              2   \n",
              "319         2     2       2        2             2              2   \n",
              "\n",
              "     cardiovascular  obesity  renal_chronic  tobacco  contact_other_covid  \\\n",
              "21                2        2              2        2                    1   \n",
              "30                2        1              2        1                    1   \n",
              "71                2        2              2        2                    1   \n",
              "79                2        1              2        2                    1   \n",
              "93                2        2              2        2                    1   \n",
              "215               1        2              2        2                    2   \n",
              "298               2        2              2        2                    2   \n",
              "308               2        1              2        2                    1   \n",
              "311               2        1              2        2                    1   \n",
              "319               2        2              2        2                    2   \n",
              "\n",
              "     covid_res  icu  \n",
              "21           1    2  \n",
              "30           1    2  \n",
              "71           1    2  \n",
              "79           1    2  \n",
              "93           1    2  \n",
              "215          1    2  \n",
              "298          1    2  \n",
              "308          1    1  \n",
              "311          1    2  \n",
              "319          1    2  "
            ],
            "text/html": [
              "\n",
              "  <div id=\"df-97ff70c4-e245-44c4-89c3-17ae41a7a8fb\">\n",
              "    <div class=\"colab-df-container\">\n",
              "      <div>\n",
              "<style scoped>\n",
              "    .dataframe tbody tr th:only-of-type {\n",
              "        vertical-align: middle;\n",
              "    }\n",
              "\n",
              "    .dataframe tbody tr th {\n",
              "        vertical-align: top;\n",
              "    }\n",
              "\n",
              "    .dataframe thead th {\n",
              "        text-align: right;\n",
              "    }\n",
              "</style>\n",
              "<table border=\"1\" class=\"dataframe\">\n",
              "  <thead>\n",
              "    <tr style=\"text-align: right;\">\n",
              "      <th></th>\n",
              "      <th>sex</th>\n",
              "      <th>patient_type</th>\n",
              "      <th>date_died</th>\n",
              "      <th>intubed</th>\n",
              "      <th>pneumonia</th>\n",
              "      <th>age</th>\n",
              "      <th>pregnancy</th>\n",
              "      <th>diabetes</th>\n",
              "      <th>copd</th>\n",
              "      <th>asthma</th>\n",
              "      <th>inmsupr</th>\n",
              "      <th>hypertension</th>\n",
              "      <th>other_disease</th>\n",
              "      <th>cardiovascular</th>\n",
              "      <th>obesity</th>\n",
              "      <th>renal_chronic</th>\n",
              "      <th>tobacco</th>\n",
              "      <th>contact_other_covid</th>\n",
              "      <th>covid_res</th>\n",
              "      <th>icu</th>\n",
              "    </tr>\n",
              "  </thead>\n",
              "  <tbody>\n",
              "    <tr>\n",
              "      <th>21</th>\n",
              "      <td>1</td>\n",
              "      <td>2</td>\n",
              "      <td>9999-99-99</td>\n",
              "      <td>2</td>\n",
              "      <td>2</td>\n",
              "      <td>25</td>\n",
              "      <td>2</td>\n",
              "      <td>2</td>\n",
              "      <td>2</td>\n",
              "      <td>2</td>\n",
              "      <td>2</td>\n",
              "      <td>2</td>\n",
              "      <td>2</td>\n",
              "      <td>2</td>\n",
              "      <td>2</td>\n",
              "      <td>2</td>\n",
              "      <td>2</td>\n",
              "      <td>1</td>\n",
              "      <td>1</td>\n",
              "      <td>2</td>\n",
              "    </tr>\n",
              "    <tr>\n",
              "      <th>30</th>\n",
              "      <td>1</td>\n",
              "      <td>2</td>\n",
              "      <td>9999-99-99</td>\n",
              "      <td>2</td>\n",
              "      <td>2</td>\n",
              "      <td>52</td>\n",
              "      <td>2</td>\n",
              "      <td>2</td>\n",
              "      <td>2</td>\n",
              "      <td>2</td>\n",
              "      <td>2</td>\n",
              "      <td>2</td>\n",
              "      <td>2</td>\n",
              "      <td>2</td>\n",
              "      <td>1</td>\n",
              "      <td>2</td>\n",
              "      <td>1</td>\n",
              "      <td>1</td>\n",
              "      <td>1</td>\n",
              "      <td>2</td>\n",
              "    </tr>\n",
              "    <tr>\n",
              "      <th>71</th>\n",
              "      <td>1</td>\n",
              "      <td>2</td>\n",
              "      <td>9999-99-99</td>\n",
              "      <td>2</td>\n",
              "      <td>1</td>\n",
              "      <td>51</td>\n",
              "      <td>2</td>\n",
              "      <td>2</td>\n",
              "      <td>2</td>\n",
              "      <td>2</td>\n",
              "      <td>2</td>\n",
              "      <td>2</td>\n",
              "      <td>2</td>\n",
              "      <td>2</td>\n",
              "      <td>2</td>\n",
              "      <td>2</td>\n",
              "      <td>2</td>\n",
              "      <td>1</td>\n",
              "      <td>1</td>\n",
              "      <td>2</td>\n",
              "    </tr>\n",
              "    <tr>\n",
              "      <th>79</th>\n",
              "      <td>1</td>\n",
              "      <td>2</td>\n",
              "      <td>9999-99-99</td>\n",
              "      <td>1</td>\n",
              "      <td>1</td>\n",
              "      <td>67</td>\n",
              "      <td>2</td>\n",
              "      <td>1</td>\n",
              "      <td>2</td>\n",
              "      <td>2</td>\n",
              "      <td>2</td>\n",
              "      <td>1</td>\n",
              "      <td>2</td>\n",
              "      <td>2</td>\n",
              "      <td>1</td>\n",
              "      <td>2</td>\n",
              "      <td>2</td>\n",
              "      <td>1</td>\n",
              "      <td>1</td>\n",
              "      <td>2</td>\n",
              "    </tr>\n",
              "    <tr>\n",
              "      <th>93</th>\n",
              "      <td>1</td>\n",
              "      <td>2</td>\n",
              "      <td>9999-99-99</td>\n",
              "      <td>2</td>\n",
              "      <td>1</td>\n",
              "      <td>59</td>\n",
              "      <td>2</td>\n",
              "      <td>1</td>\n",
              "      <td>2</td>\n",
              "      <td>2</td>\n",
              "      <td>2</td>\n",
              "      <td>2</td>\n",
              "      <td>2</td>\n",
              "      <td>2</td>\n",
              "      <td>2</td>\n",
              "      <td>2</td>\n",
              "      <td>2</td>\n",
              "      <td>1</td>\n",
              "      <td>1</td>\n",
              "      <td>2</td>\n",
              "    </tr>\n",
              "    <tr>\n",
              "      <th>215</th>\n",
              "      <td>1</td>\n",
              "      <td>2</td>\n",
              "      <td>9999-99-99</td>\n",
              "      <td>2</td>\n",
              "      <td>2</td>\n",
              "      <td>52</td>\n",
              "      <td>2</td>\n",
              "      <td>1</td>\n",
              "      <td>2</td>\n",
              "      <td>2</td>\n",
              "      <td>2</td>\n",
              "      <td>1</td>\n",
              "      <td>2</td>\n",
              "      <td>1</td>\n",
              "      <td>2</td>\n",
              "      <td>2</td>\n",
              "      <td>2</td>\n",
              "      <td>2</td>\n",
              "      <td>1</td>\n",
              "      <td>2</td>\n",
              "    </tr>\n",
              "    <tr>\n",
              "      <th>298</th>\n",
              "      <td>1</td>\n",
              "      <td>2</td>\n",
              "      <td>9999-99-99</td>\n",
              "      <td>2</td>\n",
              "      <td>1</td>\n",
              "      <td>54</td>\n",
              "      <td>2</td>\n",
              "      <td>2</td>\n",
              "      <td>2</td>\n",
              "      <td>2</td>\n",
              "      <td>2</td>\n",
              "      <td>2</td>\n",
              "      <td>2</td>\n",
              "      <td>2</td>\n",
              "      <td>2</td>\n",
              "      <td>2</td>\n",
              "      <td>2</td>\n",
              "      <td>2</td>\n",
              "      <td>1</td>\n",
              "      <td>2</td>\n",
              "    </tr>\n",
              "    <tr>\n",
              "      <th>308</th>\n",
              "      <td>1</td>\n",
              "      <td>2</td>\n",
              "      <td>18-04-2020</td>\n",
              "      <td>2</td>\n",
              "      <td>1</td>\n",
              "      <td>78</td>\n",
              "      <td>2</td>\n",
              "      <td>2</td>\n",
              "      <td>2</td>\n",
              "      <td>2</td>\n",
              "      <td>2</td>\n",
              "      <td>1</td>\n",
              "      <td>2</td>\n",
              "      <td>2</td>\n",
              "      <td>1</td>\n",
              "      <td>2</td>\n",
              "      <td>2</td>\n",
              "      <td>1</td>\n",
              "      <td>1</td>\n",
              "      <td>1</td>\n",
              "    </tr>\n",
              "    <tr>\n",
              "      <th>311</th>\n",
              "      <td>1</td>\n",
              "      <td>2</td>\n",
              "      <td>9999-99-99</td>\n",
              "      <td>2</td>\n",
              "      <td>1</td>\n",
              "      <td>80</td>\n",
              "      <td>2</td>\n",
              "      <td>1</td>\n",
              "      <td>2</td>\n",
              "      <td>2</td>\n",
              "      <td>2</td>\n",
              "      <td>1</td>\n",
              "      <td>2</td>\n",
              "      <td>2</td>\n",
              "      <td>1</td>\n",
              "      <td>2</td>\n",
              "      <td>2</td>\n",
              "      <td>1</td>\n",
              "      <td>1</td>\n",
              "      <td>2</td>\n",
              "    </tr>\n",
              "    <tr>\n",
              "      <th>319</th>\n",
              "      <td>1</td>\n",
              "      <td>2</td>\n",
              "      <td>9999-99-99</td>\n",
              "      <td>2</td>\n",
              "      <td>2</td>\n",
              "      <td>40</td>\n",
              "      <td>2</td>\n",
              "      <td>2</td>\n",
              "      <td>2</td>\n",
              "      <td>2</td>\n",
              "      <td>2</td>\n",
              "      <td>2</td>\n",
              "      <td>2</td>\n",
              "      <td>2</td>\n",
              "      <td>2</td>\n",
              "      <td>2</td>\n",
              "      <td>2</td>\n",
              "      <td>2</td>\n",
              "      <td>1</td>\n",
              "      <td>2</td>\n",
              "    </tr>\n",
              "  </tbody>\n",
              "</table>\n",
              "</div>\n",
              "      <button class=\"colab-df-convert\" onclick=\"convertToInteractive('df-97ff70c4-e245-44c4-89c3-17ae41a7a8fb')\"\n",
              "              title=\"Convert this dataframe to an interactive table.\"\n",
              "              style=\"display:none;\">\n",
              "        \n",
              "  <svg xmlns=\"http://www.w3.org/2000/svg\" height=\"24px\"viewBox=\"0 0 24 24\"\n",
              "       width=\"24px\">\n",
              "    <path d=\"M0 0h24v24H0V0z\" fill=\"none\"/>\n",
              "    <path d=\"M18.56 5.44l.94 2.06.94-2.06 2.06-.94-2.06-.94-.94-2.06-.94 2.06-2.06.94zm-11 1L8.5 8.5l.94-2.06 2.06-.94-2.06-.94L8.5 2.5l-.94 2.06-2.06.94zm10 10l.94 2.06.94-2.06 2.06-.94-2.06-.94-.94-2.06-.94 2.06-2.06.94z\"/><path d=\"M17.41 7.96l-1.37-1.37c-.4-.4-.92-.59-1.43-.59-.52 0-1.04.2-1.43.59L10.3 9.45l-7.72 7.72c-.78.78-.78 2.05 0 2.83L4 21.41c.39.39.9.59 1.41.59.51 0 1.02-.2 1.41-.59l7.78-7.78 2.81-2.81c.8-.78.8-2.07 0-2.86zM5.41 20L4 18.59l7.72-7.72 1.47 1.35L5.41 20z\"/>\n",
              "  </svg>\n",
              "      </button>\n",
              "      \n",
              "  <style>\n",
              "    .colab-df-container {\n",
              "      display:flex;\n",
              "      flex-wrap:wrap;\n",
              "      gap: 12px;\n",
              "    }\n",
              "\n",
              "    .colab-df-convert {\n",
              "      background-color: #E8F0FE;\n",
              "      border: none;\n",
              "      border-radius: 50%;\n",
              "      cursor: pointer;\n",
              "      display: none;\n",
              "      fill: #1967D2;\n",
              "      height: 32px;\n",
              "      padding: 0 0 0 0;\n",
              "      width: 32px;\n",
              "    }\n",
              "\n",
              "    .colab-df-convert:hover {\n",
              "      background-color: #E2EBFA;\n",
              "      box-shadow: 0px 1px 2px rgba(60, 64, 67, 0.3), 0px 1px 3px 1px rgba(60, 64, 67, 0.15);\n",
              "      fill: #174EA6;\n",
              "    }\n",
              "\n",
              "    [theme=dark] .colab-df-convert {\n",
              "      background-color: #3B4455;\n",
              "      fill: #D2E3FC;\n",
              "    }\n",
              "\n",
              "    [theme=dark] .colab-df-convert:hover {\n",
              "      background-color: #434B5C;\n",
              "      box-shadow: 0px 1px 3px 1px rgba(0, 0, 0, 0.15);\n",
              "      filter: drop-shadow(0px 1px 2px rgba(0, 0, 0, 0.3));\n",
              "      fill: #FFFFFF;\n",
              "    }\n",
              "  </style>\n",
              "\n",
              "      <script>\n",
              "        const buttonEl =\n",
              "          document.querySelector('#df-97ff70c4-e245-44c4-89c3-17ae41a7a8fb button.colab-df-convert');\n",
              "        buttonEl.style.display =\n",
              "          google.colab.kernel.accessAllowed ? 'block' : 'none';\n",
              "\n",
              "        async function convertToInteractive(key) {\n",
              "          const element = document.querySelector('#df-97ff70c4-e245-44c4-89c3-17ae41a7a8fb');\n",
              "          const dataTable =\n",
              "            await google.colab.kernel.invokeFunction('convertToInteractive',\n",
              "                                                     [key], {});\n",
              "          if (!dataTable) return;\n",
              "\n",
              "          const docLinkHtml = 'Like what you see? Visit the ' +\n",
              "            '<a target=\"_blank\" href=https://colab.research.google.com/notebooks/data_table.ipynb>data table notebook</a>'\n",
              "            + ' to learn more about interactive tables.';\n",
              "          element.innerHTML = '';\n",
              "          dataTable['output_type'] = 'display_data';\n",
              "          await google.colab.output.renderOutput(dataTable, element);\n",
              "          const docLink = document.createElement('div');\n",
              "          docLink.innerHTML = docLinkHtml;\n",
              "          element.appendChild(docLink);\n",
              "        }\n",
              "      </script>\n",
              "    </div>\n",
              "  </div>\n",
              "  "
            ]
          },
          "metadata": {},
          "execution_count": 106
        }
      ]
    },
    {
      "cell_type": "code",
      "source": [
        "#resetting index and showing first ten rows after that\n",
        "Covid_dataset.reset_index(drop=True,inplace=True)\n",
        "Covid_dataset.head(10)"
      ],
      "metadata": {
        "colab": {
          "base_uri": "https://localhost:8080/",
          "height": 601
        },
        "id": "662iLrxvacK7",
        "outputId": "11760329-900b-473b-daf0-7e59f4be8b31"
      },
      "execution_count": 107,
      "outputs": [
        {
          "output_type": "execute_result",
          "data": {
            "text/plain": [
              "   sex  patient_type   date_died  intubed  pneumonia  age  pregnancy  \\\n",
              "0    1             2  9999-99-99        2          2   25          2   \n",
              "1    1             2  9999-99-99        2          2   52          2   \n",
              "2    1             2  9999-99-99        2          1   51          2   \n",
              "3    1             2  9999-99-99        1          1   67          2   \n",
              "4    1             2  9999-99-99        2          1   59          2   \n",
              "5    1             2  9999-99-99        2          2   52          2   \n",
              "6    1             2  9999-99-99        2          1   54          2   \n",
              "7    1             2  18-04-2020        2          1   78          2   \n",
              "8    1             2  9999-99-99        2          1   80          2   \n",
              "9    1             2  9999-99-99        2          2   40          2   \n",
              "\n",
              "   diabetes  copd  asthma  inmsupr  hypertension  other_disease  \\\n",
              "0         2     2       2        2             2              2   \n",
              "1         2     2       2        2             2              2   \n",
              "2         2     2       2        2             2              2   \n",
              "3         1     2       2        2             1              2   \n",
              "4         1     2       2        2             2              2   \n",
              "5         1     2       2        2             1              2   \n",
              "6         2     2       2        2             2              2   \n",
              "7         2     2       2        2             1              2   \n",
              "8         1     2       2        2             1              2   \n",
              "9         2     2       2        2             2              2   \n",
              "\n",
              "   cardiovascular  obesity  renal_chronic  tobacco  contact_other_covid  \\\n",
              "0               2        2              2        2                    1   \n",
              "1               2        1              2        1                    1   \n",
              "2               2        2              2        2                    1   \n",
              "3               2        1              2        2                    1   \n",
              "4               2        2              2        2                    1   \n",
              "5               1        2              2        2                    2   \n",
              "6               2        2              2        2                    2   \n",
              "7               2        1              2        2                    1   \n",
              "8               2        1              2        2                    1   \n",
              "9               2        2              2        2                    2   \n",
              "\n",
              "   covid_res  icu  \n",
              "0          1    2  \n",
              "1          1    2  \n",
              "2          1    2  \n",
              "3          1    2  \n",
              "4          1    2  \n",
              "5          1    2  \n",
              "6          1    2  \n",
              "7          1    1  \n",
              "8          1    2  \n",
              "9          1    2  "
            ],
            "text/html": [
              "\n",
              "  <div id=\"df-64db2ea4-3d2c-4f47-be28-7cf553419ef3\">\n",
              "    <div class=\"colab-df-container\">\n",
              "      <div>\n",
              "<style scoped>\n",
              "    .dataframe tbody tr th:only-of-type {\n",
              "        vertical-align: middle;\n",
              "    }\n",
              "\n",
              "    .dataframe tbody tr th {\n",
              "        vertical-align: top;\n",
              "    }\n",
              "\n",
              "    .dataframe thead th {\n",
              "        text-align: right;\n",
              "    }\n",
              "</style>\n",
              "<table border=\"1\" class=\"dataframe\">\n",
              "  <thead>\n",
              "    <tr style=\"text-align: right;\">\n",
              "      <th></th>\n",
              "      <th>sex</th>\n",
              "      <th>patient_type</th>\n",
              "      <th>date_died</th>\n",
              "      <th>intubed</th>\n",
              "      <th>pneumonia</th>\n",
              "      <th>age</th>\n",
              "      <th>pregnancy</th>\n",
              "      <th>diabetes</th>\n",
              "      <th>copd</th>\n",
              "      <th>asthma</th>\n",
              "      <th>inmsupr</th>\n",
              "      <th>hypertension</th>\n",
              "      <th>other_disease</th>\n",
              "      <th>cardiovascular</th>\n",
              "      <th>obesity</th>\n",
              "      <th>renal_chronic</th>\n",
              "      <th>tobacco</th>\n",
              "      <th>contact_other_covid</th>\n",
              "      <th>covid_res</th>\n",
              "      <th>icu</th>\n",
              "    </tr>\n",
              "  </thead>\n",
              "  <tbody>\n",
              "    <tr>\n",
              "      <th>0</th>\n",
              "      <td>1</td>\n",
              "      <td>2</td>\n",
              "      <td>9999-99-99</td>\n",
              "      <td>2</td>\n",
              "      <td>2</td>\n",
              "      <td>25</td>\n",
              "      <td>2</td>\n",
              "      <td>2</td>\n",
              "      <td>2</td>\n",
              "      <td>2</td>\n",
              "      <td>2</td>\n",
              "      <td>2</td>\n",
              "      <td>2</td>\n",
              "      <td>2</td>\n",
              "      <td>2</td>\n",
              "      <td>2</td>\n",
              "      <td>2</td>\n",
              "      <td>1</td>\n",
              "      <td>1</td>\n",
              "      <td>2</td>\n",
              "    </tr>\n",
              "    <tr>\n",
              "      <th>1</th>\n",
              "      <td>1</td>\n",
              "      <td>2</td>\n",
              "      <td>9999-99-99</td>\n",
              "      <td>2</td>\n",
              "      <td>2</td>\n",
              "      <td>52</td>\n",
              "      <td>2</td>\n",
              "      <td>2</td>\n",
              "      <td>2</td>\n",
              "      <td>2</td>\n",
              "      <td>2</td>\n",
              "      <td>2</td>\n",
              "      <td>2</td>\n",
              "      <td>2</td>\n",
              "      <td>1</td>\n",
              "      <td>2</td>\n",
              "      <td>1</td>\n",
              "      <td>1</td>\n",
              "      <td>1</td>\n",
              "      <td>2</td>\n",
              "    </tr>\n",
              "    <tr>\n",
              "      <th>2</th>\n",
              "      <td>1</td>\n",
              "      <td>2</td>\n",
              "      <td>9999-99-99</td>\n",
              "      <td>2</td>\n",
              "      <td>1</td>\n",
              "      <td>51</td>\n",
              "      <td>2</td>\n",
              "      <td>2</td>\n",
              "      <td>2</td>\n",
              "      <td>2</td>\n",
              "      <td>2</td>\n",
              "      <td>2</td>\n",
              "      <td>2</td>\n",
              "      <td>2</td>\n",
              "      <td>2</td>\n",
              "      <td>2</td>\n",
              "      <td>2</td>\n",
              "      <td>1</td>\n",
              "      <td>1</td>\n",
              "      <td>2</td>\n",
              "    </tr>\n",
              "    <tr>\n",
              "      <th>3</th>\n",
              "      <td>1</td>\n",
              "      <td>2</td>\n",
              "      <td>9999-99-99</td>\n",
              "      <td>1</td>\n",
              "      <td>1</td>\n",
              "      <td>67</td>\n",
              "      <td>2</td>\n",
              "      <td>1</td>\n",
              "      <td>2</td>\n",
              "      <td>2</td>\n",
              "      <td>2</td>\n",
              "      <td>1</td>\n",
              "      <td>2</td>\n",
              "      <td>2</td>\n",
              "      <td>1</td>\n",
              "      <td>2</td>\n",
              "      <td>2</td>\n",
              "      <td>1</td>\n",
              "      <td>1</td>\n",
              "      <td>2</td>\n",
              "    </tr>\n",
              "    <tr>\n",
              "      <th>4</th>\n",
              "      <td>1</td>\n",
              "      <td>2</td>\n",
              "      <td>9999-99-99</td>\n",
              "      <td>2</td>\n",
              "      <td>1</td>\n",
              "      <td>59</td>\n",
              "      <td>2</td>\n",
              "      <td>1</td>\n",
              "      <td>2</td>\n",
              "      <td>2</td>\n",
              "      <td>2</td>\n",
              "      <td>2</td>\n",
              "      <td>2</td>\n",
              "      <td>2</td>\n",
              "      <td>2</td>\n",
              "      <td>2</td>\n",
              "      <td>2</td>\n",
              "      <td>1</td>\n",
              "      <td>1</td>\n",
              "      <td>2</td>\n",
              "    </tr>\n",
              "    <tr>\n",
              "      <th>5</th>\n",
              "      <td>1</td>\n",
              "      <td>2</td>\n",
              "      <td>9999-99-99</td>\n",
              "      <td>2</td>\n",
              "      <td>2</td>\n",
              "      <td>52</td>\n",
              "      <td>2</td>\n",
              "      <td>1</td>\n",
              "      <td>2</td>\n",
              "      <td>2</td>\n",
              "      <td>2</td>\n",
              "      <td>1</td>\n",
              "      <td>2</td>\n",
              "      <td>1</td>\n",
              "      <td>2</td>\n",
              "      <td>2</td>\n",
              "      <td>2</td>\n",
              "      <td>2</td>\n",
              "      <td>1</td>\n",
              "      <td>2</td>\n",
              "    </tr>\n",
              "    <tr>\n",
              "      <th>6</th>\n",
              "      <td>1</td>\n",
              "      <td>2</td>\n",
              "      <td>9999-99-99</td>\n",
              "      <td>2</td>\n",
              "      <td>1</td>\n",
              "      <td>54</td>\n",
              "      <td>2</td>\n",
              "      <td>2</td>\n",
              "      <td>2</td>\n",
              "      <td>2</td>\n",
              "      <td>2</td>\n",
              "      <td>2</td>\n",
              "      <td>2</td>\n",
              "      <td>2</td>\n",
              "      <td>2</td>\n",
              "      <td>2</td>\n",
              "      <td>2</td>\n",
              "      <td>2</td>\n",
              "      <td>1</td>\n",
              "      <td>2</td>\n",
              "    </tr>\n",
              "    <tr>\n",
              "      <th>7</th>\n",
              "      <td>1</td>\n",
              "      <td>2</td>\n",
              "      <td>18-04-2020</td>\n",
              "      <td>2</td>\n",
              "      <td>1</td>\n",
              "      <td>78</td>\n",
              "      <td>2</td>\n",
              "      <td>2</td>\n",
              "      <td>2</td>\n",
              "      <td>2</td>\n",
              "      <td>2</td>\n",
              "      <td>1</td>\n",
              "      <td>2</td>\n",
              "      <td>2</td>\n",
              "      <td>1</td>\n",
              "      <td>2</td>\n",
              "      <td>2</td>\n",
              "      <td>1</td>\n",
              "      <td>1</td>\n",
              "      <td>1</td>\n",
              "    </tr>\n",
              "    <tr>\n",
              "      <th>8</th>\n",
              "      <td>1</td>\n",
              "      <td>2</td>\n",
              "      <td>9999-99-99</td>\n",
              "      <td>2</td>\n",
              "      <td>1</td>\n",
              "      <td>80</td>\n",
              "      <td>2</td>\n",
              "      <td>1</td>\n",
              "      <td>2</td>\n",
              "      <td>2</td>\n",
              "      <td>2</td>\n",
              "      <td>1</td>\n",
              "      <td>2</td>\n",
              "      <td>2</td>\n",
              "      <td>1</td>\n",
              "      <td>2</td>\n",
              "      <td>2</td>\n",
              "      <td>1</td>\n",
              "      <td>1</td>\n",
              "      <td>2</td>\n",
              "    </tr>\n",
              "    <tr>\n",
              "      <th>9</th>\n",
              "      <td>1</td>\n",
              "      <td>2</td>\n",
              "      <td>9999-99-99</td>\n",
              "      <td>2</td>\n",
              "      <td>2</td>\n",
              "      <td>40</td>\n",
              "      <td>2</td>\n",
              "      <td>2</td>\n",
              "      <td>2</td>\n",
              "      <td>2</td>\n",
              "      <td>2</td>\n",
              "      <td>2</td>\n",
              "      <td>2</td>\n",
              "      <td>2</td>\n",
              "      <td>2</td>\n",
              "      <td>2</td>\n",
              "      <td>2</td>\n",
              "      <td>2</td>\n",
              "      <td>1</td>\n",
              "      <td>2</td>\n",
              "    </tr>\n",
              "  </tbody>\n",
              "</table>\n",
              "</div>\n",
              "      <button class=\"colab-df-convert\" onclick=\"convertToInteractive('df-64db2ea4-3d2c-4f47-be28-7cf553419ef3')\"\n",
              "              title=\"Convert this dataframe to an interactive table.\"\n",
              "              style=\"display:none;\">\n",
              "        \n",
              "  <svg xmlns=\"http://www.w3.org/2000/svg\" height=\"24px\"viewBox=\"0 0 24 24\"\n",
              "       width=\"24px\">\n",
              "    <path d=\"M0 0h24v24H0V0z\" fill=\"none\"/>\n",
              "    <path d=\"M18.56 5.44l.94 2.06.94-2.06 2.06-.94-2.06-.94-.94-2.06-.94 2.06-2.06.94zm-11 1L8.5 8.5l.94-2.06 2.06-.94-2.06-.94L8.5 2.5l-.94 2.06-2.06.94zm10 10l.94 2.06.94-2.06 2.06-.94-2.06-.94-.94-2.06-.94 2.06-2.06.94z\"/><path d=\"M17.41 7.96l-1.37-1.37c-.4-.4-.92-.59-1.43-.59-.52 0-1.04.2-1.43.59L10.3 9.45l-7.72 7.72c-.78.78-.78 2.05 0 2.83L4 21.41c.39.39.9.59 1.41.59.51 0 1.02-.2 1.41-.59l7.78-7.78 2.81-2.81c.8-.78.8-2.07 0-2.86zM5.41 20L4 18.59l7.72-7.72 1.47 1.35L5.41 20z\"/>\n",
              "  </svg>\n",
              "      </button>\n",
              "      \n",
              "  <style>\n",
              "    .colab-df-container {\n",
              "      display:flex;\n",
              "      flex-wrap:wrap;\n",
              "      gap: 12px;\n",
              "    }\n",
              "\n",
              "    .colab-df-convert {\n",
              "      background-color: #E8F0FE;\n",
              "      border: none;\n",
              "      border-radius: 50%;\n",
              "      cursor: pointer;\n",
              "      display: none;\n",
              "      fill: #1967D2;\n",
              "      height: 32px;\n",
              "      padding: 0 0 0 0;\n",
              "      width: 32px;\n",
              "    }\n",
              "\n",
              "    .colab-df-convert:hover {\n",
              "      background-color: #E2EBFA;\n",
              "      box-shadow: 0px 1px 2px rgba(60, 64, 67, 0.3), 0px 1px 3px 1px rgba(60, 64, 67, 0.15);\n",
              "      fill: #174EA6;\n",
              "    }\n",
              "\n",
              "    [theme=dark] .colab-df-convert {\n",
              "      background-color: #3B4455;\n",
              "      fill: #D2E3FC;\n",
              "    }\n",
              "\n",
              "    [theme=dark] .colab-df-convert:hover {\n",
              "      background-color: #434B5C;\n",
              "      box-shadow: 0px 1px 3px 1px rgba(0, 0, 0, 0.15);\n",
              "      filter: drop-shadow(0px 1px 2px rgba(0, 0, 0, 0.3));\n",
              "      fill: #FFFFFF;\n",
              "    }\n",
              "  </style>\n",
              "\n",
              "      <script>\n",
              "        const buttonEl =\n",
              "          document.querySelector('#df-64db2ea4-3d2c-4f47-be28-7cf553419ef3 button.colab-df-convert');\n",
              "        buttonEl.style.display =\n",
              "          google.colab.kernel.accessAllowed ? 'block' : 'none';\n",
              "\n",
              "        async function convertToInteractive(key) {\n",
              "          const element = document.querySelector('#df-64db2ea4-3d2c-4f47-be28-7cf553419ef3');\n",
              "          const dataTable =\n",
              "            await google.colab.kernel.invokeFunction('convertToInteractive',\n",
              "                                                     [key], {});\n",
              "          if (!dataTable) return;\n",
              "\n",
              "          const docLinkHtml = 'Like what you see? Visit the ' +\n",
              "            '<a target=\"_blank\" href=https://colab.research.google.com/notebooks/data_table.ipynb>data table notebook</a>'\n",
              "            + ' to learn more about interactive tables.';\n",
              "          element.innerHTML = '';\n",
              "          dataTable['output_type'] = 'display_data';\n",
              "          await google.colab.output.renderOutput(dataTable, element);\n",
              "          const docLink = document.createElement('div');\n",
              "          docLink.innerHTML = docLinkHtml;\n",
              "          element.appendChild(docLink);\n",
              "        }\n",
              "      </script>\n",
              "    </div>\n",
              "  </div>\n",
              "  "
            ]
          },
          "metadata": {},
          "execution_count": 107
        }
      ]
    },
    {
      "cell_type": "code",
      "source": [
        "#correlation \n",
        "Covid_dataset.corr()"
      ],
      "metadata": {
        "colab": {
          "base_uri": "https://localhost:8080/",
          "height": 709
        },
        "id": "GIAWtBCrlyRZ",
        "outputId": "a1129a2e-7fd6-4ef0-9540-4d6dd6629b65"
      },
      "execution_count": 108,
      "outputs": [
        {
          "output_type": "execute_result",
          "data": {
            "text/plain": [
              "                     sex  patient_type   intubed  pneumonia       age  \\\n",
              "sex                  NaN           NaN       NaN        NaN       NaN   \n",
              "patient_type         NaN           NaN       NaN        NaN       NaN   \n",
              "intubed              NaN           NaN  1.000000   0.186987 -0.052129   \n",
              "pneumonia            NaN           NaN  0.186987   1.000000 -0.231756   \n",
              "age                  NaN           NaN -0.052129  -0.231756  1.000000   \n",
              "pregnancy            NaN           NaN -0.034691  -0.102353  0.174889   \n",
              "diabetes             NaN           NaN  0.062194   0.140891 -0.311785   \n",
              "copd                 NaN           NaN  0.026414   0.036701 -0.206137   \n",
              "asthma               NaN           NaN -0.021660  -0.020121  0.019301   \n",
              "inmsupr              NaN           NaN  0.009933  -0.010377  0.050585   \n",
              "hypertension         NaN           NaN  0.055087   0.146803 -0.415484   \n",
              "other_disease        NaN           NaN  0.040659  -0.007317  0.039407   \n",
              "cardiovascular       NaN           NaN  0.023542   0.032746 -0.139180   \n",
              "obesity              NaN           NaN  0.049560   0.107259 -0.106215   \n",
              "renal_chronic        NaN           NaN  0.041501   0.041349 -0.075726   \n",
              "tobacco              NaN           NaN -0.001439   0.003547 -0.025242   \n",
              "contact_other_covid  NaN           NaN -0.041755  -0.097163  0.086659   \n",
              "covid_res            NaN           NaN -0.053427  -0.205502  0.202211   \n",
              "icu                  NaN           NaN  0.426606   0.115182  0.007049   \n",
              "\n",
              "                     pregnancy  diabetes      copd    asthma   inmsupr  \\\n",
              "sex                        NaN       NaN       NaN       NaN       NaN   \n",
              "patient_type               NaN       NaN       NaN       NaN       NaN   \n",
              "intubed              -0.034691  0.062194  0.026414 -0.021660  0.009933   \n",
              "pneumonia            -0.102353  0.140891  0.036701 -0.020121 -0.010377   \n",
              "age                   0.174889 -0.311785 -0.206137  0.019301  0.050585   \n",
              "pregnancy             1.000000 -0.085143 -0.032800  0.006560 -0.025374   \n",
              "diabetes             -0.085143  1.000000  0.075233  0.005331 -0.013156   \n",
              "copd                 -0.032800  0.075233  1.000000  0.053234  0.030627   \n",
              "asthma                0.006560  0.005331  0.053234  1.000000  0.027347   \n",
              "inmsupr              -0.025374 -0.013156  0.030627  0.027347  1.000000   \n",
              "hypertension         -0.094615  0.375516  0.125038  0.015617 -0.005966   \n",
              "other_disease         0.014522 -0.010000  0.022135  0.002617  0.203970   \n",
              "cardiovascular       -0.028802  0.102122  0.120946  0.011809  0.069615   \n",
              "obesity              -0.035482  0.122252  0.044650  0.050402 -0.002001   \n",
              "renal_chronic        -0.030326  0.159729  0.048668 -0.007349  0.081767   \n",
              "tobacco              -0.014847  0.015924  0.089287  0.028560  0.018902   \n",
              "contact_other_covid  -0.045022 -0.090014 -0.045629 -0.000215 -0.017183   \n",
              "covid_res             0.046104 -0.083567  0.045160  0.010103  0.083115   \n",
              "icu                  -0.014158  0.032156  0.004155 -0.009605  0.030939   \n",
              "\n",
              "                     hypertension  other_disease  cardiovascular   obesity  \\\n",
              "sex                           NaN            NaN             NaN       NaN   \n",
              "patient_type                  NaN            NaN             NaN       NaN   \n",
              "intubed                  0.055087       0.040659        0.023542  0.049560   \n",
              "pneumonia                0.146803      -0.007317        0.032746  0.107259   \n",
              "age                     -0.415484       0.039407       -0.139180 -0.106215   \n",
              "pregnancy               -0.094615       0.014522       -0.028802 -0.035482   \n",
              "diabetes                 0.375516      -0.010000        0.102122  0.122252   \n",
              "copd                     0.125038       0.022135        0.120946  0.044650   \n",
              "asthma                   0.015617       0.002617        0.011809  0.050402   \n",
              "inmsupr                 -0.005966       0.203970        0.069615 -0.002001   \n",
              "hypertension             1.000000       0.015716        0.183286  0.171296   \n",
              "other_disease            0.015716       1.000000        0.102197  0.018967   \n",
              "cardiovascular           0.183286       0.102197        1.000000  0.071672   \n",
              "obesity                  0.171296       0.018967        0.071672  1.000000   \n",
              "renal_chronic            0.179967       0.049052        0.130465  0.009830   \n",
              "tobacco                  0.018872       0.033665        0.036150  0.054083   \n",
              "contact_other_covid     -0.074509      -0.026000       -0.031600  0.017588   \n",
              "covid_res               -0.079742       0.094249        0.046820 -0.114613   \n",
              "icu                      0.023080       0.051416        0.027228  0.038086   \n",
              "\n",
              "                     renal_chronic   tobacco  contact_other_covid  covid_res  \\\n",
              "sex                            NaN       NaN                  NaN        NaN   \n",
              "patient_type                   NaN       NaN                  NaN        NaN   \n",
              "intubed                   0.041501 -0.001439            -0.041755  -0.053427   \n",
              "pneumonia                 0.041349  0.003547            -0.097163  -0.205502   \n",
              "age                      -0.075726 -0.025242             0.086659   0.202211   \n",
              "pregnancy                -0.030326 -0.014847            -0.045022   0.046104   \n",
              "diabetes                  0.159729  0.015924            -0.090014  -0.083567   \n",
              "copd                      0.048668  0.089287            -0.045629   0.045160   \n",
              "asthma                   -0.007349  0.028560            -0.000215   0.010103   \n",
              "inmsupr                   0.081767  0.018902            -0.017183   0.083115   \n",
              "hypertension              0.179967  0.018872            -0.074509  -0.079742   \n",
              "other_disease             0.049052  0.033665            -0.026000   0.094249   \n",
              "cardiovascular            0.130465  0.036150            -0.031600   0.046820   \n",
              "obesity                   0.009830  0.054083             0.017588  -0.114613   \n",
              "renal_chronic             1.000000  0.041048            -0.059366   0.058039   \n",
              "tobacco                   0.041048  1.000000             0.010441   0.028987   \n",
              "contact_other_covid      -0.059366  0.010441             1.000000  -0.041890   \n",
              "covid_res                 0.058039  0.028987            -0.041890   1.000000   \n",
              "icu                       0.029893 -0.008466            -0.026818  -0.014981   \n",
              "\n",
              "                          icu  \n",
              "sex                       NaN  \n",
              "patient_type              NaN  \n",
              "intubed              0.426606  \n",
              "pneumonia            0.115182  \n",
              "age                  0.007049  \n",
              "pregnancy           -0.014158  \n",
              "diabetes             0.032156  \n",
              "copd                 0.004155  \n",
              "asthma              -0.009605  \n",
              "inmsupr              0.030939  \n",
              "hypertension         0.023080  \n",
              "other_disease        0.051416  \n",
              "cardiovascular       0.027228  \n",
              "obesity              0.038086  \n",
              "renal_chronic        0.029893  \n",
              "tobacco             -0.008466  \n",
              "contact_other_covid -0.026818  \n",
              "covid_res           -0.014981  \n",
              "icu                  1.000000  "
            ],
            "text/html": [
              "\n",
              "  <div id=\"df-dcea4950-07a5-4482-9df3-bec351274a01\">\n",
              "    <div class=\"colab-df-container\">\n",
              "      <div>\n",
              "<style scoped>\n",
              "    .dataframe tbody tr th:only-of-type {\n",
              "        vertical-align: middle;\n",
              "    }\n",
              "\n",
              "    .dataframe tbody tr th {\n",
              "        vertical-align: top;\n",
              "    }\n",
              "\n",
              "    .dataframe thead th {\n",
              "        text-align: right;\n",
              "    }\n",
              "</style>\n",
              "<table border=\"1\" class=\"dataframe\">\n",
              "  <thead>\n",
              "    <tr style=\"text-align: right;\">\n",
              "      <th></th>\n",
              "      <th>sex</th>\n",
              "      <th>patient_type</th>\n",
              "      <th>intubed</th>\n",
              "      <th>pneumonia</th>\n",
              "      <th>age</th>\n",
              "      <th>pregnancy</th>\n",
              "      <th>diabetes</th>\n",
              "      <th>copd</th>\n",
              "      <th>asthma</th>\n",
              "      <th>inmsupr</th>\n",
              "      <th>hypertension</th>\n",
              "      <th>other_disease</th>\n",
              "      <th>cardiovascular</th>\n",
              "      <th>obesity</th>\n",
              "      <th>renal_chronic</th>\n",
              "      <th>tobacco</th>\n",
              "      <th>contact_other_covid</th>\n",
              "      <th>covid_res</th>\n",
              "      <th>icu</th>\n",
              "    </tr>\n",
              "  </thead>\n",
              "  <tbody>\n",
              "    <tr>\n",
              "      <th>sex</th>\n",
              "      <td>NaN</td>\n",
              "      <td>NaN</td>\n",
              "      <td>NaN</td>\n",
              "      <td>NaN</td>\n",
              "      <td>NaN</td>\n",
              "      <td>NaN</td>\n",
              "      <td>NaN</td>\n",
              "      <td>NaN</td>\n",
              "      <td>NaN</td>\n",
              "      <td>NaN</td>\n",
              "      <td>NaN</td>\n",
              "      <td>NaN</td>\n",
              "      <td>NaN</td>\n",
              "      <td>NaN</td>\n",
              "      <td>NaN</td>\n",
              "      <td>NaN</td>\n",
              "      <td>NaN</td>\n",
              "      <td>NaN</td>\n",
              "      <td>NaN</td>\n",
              "    </tr>\n",
              "    <tr>\n",
              "      <th>patient_type</th>\n",
              "      <td>NaN</td>\n",
              "      <td>NaN</td>\n",
              "      <td>NaN</td>\n",
              "      <td>NaN</td>\n",
              "      <td>NaN</td>\n",
              "      <td>NaN</td>\n",
              "      <td>NaN</td>\n",
              "      <td>NaN</td>\n",
              "      <td>NaN</td>\n",
              "      <td>NaN</td>\n",
              "      <td>NaN</td>\n",
              "      <td>NaN</td>\n",
              "      <td>NaN</td>\n",
              "      <td>NaN</td>\n",
              "      <td>NaN</td>\n",
              "      <td>NaN</td>\n",
              "      <td>NaN</td>\n",
              "      <td>NaN</td>\n",
              "      <td>NaN</td>\n",
              "    </tr>\n",
              "    <tr>\n",
              "      <th>intubed</th>\n",
              "      <td>NaN</td>\n",
              "      <td>NaN</td>\n",
              "      <td>1.000000</td>\n",
              "      <td>0.186987</td>\n",
              "      <td>-0.052129</td>\n",
              "      <td>-0.034691</td>\n",
              "      <td>0.062194</td>\n",
              "      <td>0.026414</td>\n",
              "      <td>-0.021660</td>\n",
              "      <td>0.009933</td>\n",
              "      <td>0.055087</td>\n",
              "      <td>0.040659</td>\n",
              "      <td>0.023542</td>\n",
              "      <td>0.049560</td>\n",
              "      <td>0.041501</td>\n",
              "      <td>-0.001439</td>\n",
              "      <td>-0.041755</td>\n",
              "      <td>-0.053427</td>\n",
              "      <td>0.426606</td>\n",
              "    </tr>\n",
              "    <tr>\n",
              "      <th>pneumonia</th>\n",
              "      <td>NaN</td>\n",
              "      <td>NaN</td>\n",
              "      <td>0.186987</td>\n",
              "      <td>1.000000</td>\n",
              "      <td>-0.231756</td>\n",
              "      <td>-0.102353</td>\n",
              "      <td>0.140891</td>\n",
              "      <td>0.036701</td>\n",
              "      <td>-0.020121</td>\n",
              "      <td>-0.010377</td>\n",
              "      <td>0.146803</td>\n",
              "      <td>-0.007317</td>\n",
              "      <td>0.032746</td>\n",
              "      <td>0.107259</td>\n",
              "      <td>0.041349</td>\n",
              "      <td>0.003547</td>\n",
              "      <td>-0.097163</td>\n",
              "      <td>-0.205502</td>\n",
              "      <td>0.115182</td>\n",
              "    </tr>\n",
              "    <tr>\n",
              "      <th>age</th>\n",
              "      <td>NaN</td>\n",
              "      <td>NaN</td>\n",
              "      <td>-0.052129</td>\n",
              "      <td>-0.231756</td>\n",
              "      <td>1.000000</td>\n",
              "      <td>0.174889</td>\n",
              "      <td>-0.311785</td>\n",
              "      <td>-0.206137</td>\n",
              "      <td>0.019301</td>\n",
              "      <td>0.050585</td>\n",
              "      <td>-0.415484</td>\n",
              "      <td>0.039407</td>\n",
              "      <td>-0.139180</td>\n",
              "      <td>-0.106215</td>\n",
              "      <td>-0.075726</td>\n",
              "      <td>-0.025242</td>\n",
              "      <td>0.086659</td>\n",
              "      <td>0.202211</td>\n",
              "      <td>0.007049</td>\n",
              "    </tr>\n",
              "    <tr>\n",
              "      <th>pregnancy</th>\n",
              "      <td>NaN</td>\n",
              "      <td>NaN</td>\n",
              "      <td>-0.034691</td>\n",
              "      <td>-0.102353</td>\n",
              "      <td>0.174889</td>\n",
              "      <td>1.000000</td>\n",
              "      <td>-0.085143</td>\n",
              "      <td>-0.032800</td>\n",
              "      <td>0.006560</td>\n",
              "      <td>-0.025374</td>\n",
              "      <td>-0.094615</td>\n",
              "      <td>0.014522</td>\n",
              "      <td>-0.028802</td>\n",
              "      <td>-0.035482</td>\n",
              "      <td>-0.030326</td>\n",
              "      <td>-0.014847</td>\n",
              "      <td>-0.045022</td>\n",
              "      <td>0.046104</td>\n",
              "      <td>-0.014158</td>\n",
              "    </tr>\n",
              "    <tr>\n",
              "      <th>diabetes</th>\n",
              "      <td>NaN</td>\n",
              "      <td>NaN</td>\n",
              "      <td>0.062194</td>\n",
              "      <td>0.140891</td>\n",
              "      <td>-0.311785</td>\n",
              "      <td>-0.085143</td>\n",
              "      <td>1.000000</td>\n",
              "      <td>0.075233</td>\n",
              "      <td>0.005331</td>\n",
              "      <td>-0.013156</td>\n",
              "      <td>0.375516</td>\n",
              "      <td>-0.010000</td>\n",
              "      <td>0.102122</td>\n",
              "      <td>0.122252</td>\n",
              "      <td>0.159729</td>\n",
              "      <td>0.015924</td>\n",
              "      <td>-0.090014</td>\n",
              "      <td>-0.083567</td>\n",
              "      <td>0.032156</td>\n",
              "    </tr>\n",
              "    <tr>\n",
              "      <th>copd</th>\n",
              "      <td>NaN</td>\n",
              "      <td>NaN</td>\n",
              "      <td>0.026414</td>\n",
              "      <td>0.036701</td>\n",
              "      <td>-0.206137</td>\n",
              "      <td>-0.032800</td>\n",
              "      <td>0.075233</td>\n",
              "      <td>1.000000</td>\n",
              "      <td>0.053234</td>\n",
              "      <td>0.030627</td>\n",
              "      <td>0.125038</td>\n",
              "      <td>0.022135</td>\n",
              "      <td>0.120946</td>\n",
              "      <td>0.044650</td>\n",
              "      <td>0.048668</td>\n",
              "      <td>0.089287</td>\n",
              "      <td>-0.045629</td>\n",
              "      <td>0.045160</td>\n",
              "      <td>0.004155</td>\n",
              "    </tr>\n",
              "    <tr>\n",
              "      <th>asthma</th>\n",
              "      <td>NaN</td>\n",
              "      <td>NaN</td>\n",
              "      <td>-0.021660</td>\n",
              "      <td>-0.020121</td>\n",
              "      <td>0.019301</td>\n",
              "      <td>0.006560</td>\n",
              "      <td>0.005331</td>\n",
              "      <td>0.053234</td>\n",
              "      <td>1.000000</td>\n",
              "      <td>0.027347</td>\n",
              "      <td>0.015617</td>\n",
              "      <td>0.002617</td>\n",
              "      <td>0.011809</td>\n",
              "      <td>0.050402</td>\n",
              "      <td>-0.007349</td>\n",
              "      <td>0.028560</td>\n",
              "      <td>-0.000215</td>\n",
              "      <td>0.010103</td>\n",
              "      <td>-0.009605</td>\n",
              "    </tr>\n",
              "    <tr>\n",
              "      <th>inmsupr</th>\n",
              "      <td>NaN</td>\n",
              "      <td>NaN</td>\n",
              "      <td>0.009933</td>\n",
              "      <td>-0.010377</td>\n",
              "      <td>0.050585</td>\n",
              "      <td>-0.025374</td>\n",
              "      <td>-0.013156</td>\n",
              "      <td>0.030627</td>\n",
              "      <td>0.027347</td>\n",
              "      <td>1.000000</td>\n",
              "      <td>-0.005966</td>\n",
              "      <td>0.203970</td>\n",
              "      <td>0.069615</td>\n",
              "      <td>-0.002001</td>\n",
              "      <td>0.081767</td>\n",
              "      <td>0.018902</td>\n",
              "      <td>-0.017183</td>\n",
              "      <td>0.083115</td>\n",
              "      <td>0.030939</td>\n",
              "    </tr>\n",
              "    <tr>\n",
              "      <th>hypertension</th>\n",
              "      <td>NaN</td>\n",
              "      <td>NaN</td>\n",
              "      <td>0.055087</td>\n",
              "      <td>0.146803</td>\n",
              "      <td>-0.415484</td>\n",
              "      <td>-0.094615</td>\n",
              "      <td>0.375516</td>\n",
              "      <td>0.125038</td>\n",
              "      <td>0.015617</td>\n",
              "      <td>-0.005966</td>\n",
              "      <td>1.000000</td>\n",
              "      <td>0.015716</td>\n",
              "      <td>0.183286</td>\n",
              "      <td>0.171296</td>\n",
              "      <td>0.179967</td>\n",
              "      <td>0.018872</td>\n",
              "      <td>-0.074509</td>\n",
              "      <td>-0.079742</td>\n",
              "      <td>0.023080</td>\n",
              "    </tr>\n",
              "    <tr>\n",
              "      <th>other_disease</th>\n",
              "      <td>NaN</td>\n",
              "      <td>NaN</td>\n",
              "      <td>0.040659</td>\n",
              "      <td>-0.007317</td>\n",
              "      <td>0.039407</td>\n",
              "      <td>0.014522</td>\n",
              "      <td>-0.010000</td>\n",
              "      <td>0.022135</td>\n",
              "      <td>0.002617</td>\n",
              "      <td>0.203970</td>\n",
              "      <td>0.015716</td>\n",
              "      <td>1.000000</td>\n",
              "      <td>0.102197</td>\n",
              "      <td>0.018967</td>\n",
              "      <td>0.049052</td>\n",
              "      <td>0.033665</td>\n",
              "      <td>-0.026000</td>\n",
              "      <td>0.094249</td>\n",
              "      <td>0.051416</td>\n",
              "    </tr>\n",
              "    <tr>\n",
              "      <th>cardiovascular</th>\n",
              "      <td>NaN</td>\n",
              "      <td>NaN</td>\n",
              "      <td>0.023542</td>\n",
              "      <td>0.032746</td>\n",
              "      <td>-0.139180</td>\n",
              "      <td>-0.028802</td>\n",
              "      <td>0.102122</td>\n",
              "      <td>0.120946</td>\n",
              "      <td>0.011809</td>\n",
              "      <td>0.069615</td>\n",
              "      <td>0.183286</td>\n",
              "      <td>0.102197</td>\n",
              "      <td>1.000000</td>\n",
              "      <td>0.071672</td>\n",
              "      <td>0.130465</td>\n",
              "      <td>0.036150</td>\n",
              "      <td>-0.031600</td>\n",
              "      <td>0.046820</td>\n",
              "      <td>0.027228</td>\n",
              "    </tr>\n",
              "    <tr>\n",
              "      <th>obesity</th>\n",
              "      <td>NaN</td>\n",
              "      <td>NaN</td>\n",
              "      <td>0.049560</td>\n",
              "      <td>0.107259</td>\n",
              "      <td>-0.106215</td>\n",
              "      <td>-0.035482</td>\n",
              "      <td>0.122252</td>\n",
              "      <td>0.044650</td>\n",
              "      <td>0.050402</td>\n",
              "      <td>-0.002001</td>\n",
              "      <td>0.171296</td>\n",
              "      <td>0.018967</td>\n",
              "      <td>0.071672</td>\n",
              "      <td>1.000000</td>\n",
              "      <td>0.009830</td>\n",
              "      <td>0.054083</td>\n",
              "      <td>0.017588</td>\n",
              "      <td>-0.114613</td>\n",
              "      <td>0.038086</td>\n",
              "    </tr>\n",
              "    <tr>\n",
              "      <th>renal_chronic</th>\n",
              "      <td>NaN</td>\n",
              "      <td>NaN</td>\n",
              "      <td>0.041501</td>\n",
              "      <td>0.041349</td>\n",
              "      <td>-0.075726</td>\n",
              "      <td>-0.030326</td>\n",
              "      <td>0.159729</td>\n",
              "      <td>0.048668</td>\n",
              "      <td>-0.007349</td>\n",
              "      <td>0.081767</td>\n",
              "      <td>0.179967</td>\n",
              "      <td>0.049052</td>\n",
              "      <td>0.130465</td>\n",
              "      <td>0.009830</td>\n",
              "      <td>1.000000</td>\n",
              "      <td>0.041048</td>\n",
              "      <td>-0.059366</td>\n",
              "      <td>0.058039</td>\n",
              "      <td>0.029893</td>\n",
              "    </tr>\n",
              "    <tr>\n",
              "      <th>tobacco</th>\n",
              "      <td>NaN</td>\n",
              "      <td>NaN</td>\n",
              "      <td>-0.001439</td>\n",
              "      <td>0.003547</td>\n",
              "      <td>-0.025242</td>\n",
              "      <td>-0.014847</td>\n",
              "      <td>0.015924</td>\n",
              "      <td>0.089287</td>\n",
              "      <td>0.028560</td>\n",
              "      <td>0.018902</td>\n",
              "      <td>0.018872</td>\n",
              "      <td>0.033665</td>\n",
              "      <td>0.036150</td>\n",
              "      <td>0.054083</td>\n",
              "      <td>0.041048</td>\n",
              "      <td>1.000000</td>\n",
              "      <td>0.010441</td>\n",
              "      <td>0.028987</td>\n",
              "      <td>-0.008466</td>\n",
              "    </tr>\n",
              "    <tr>\n",
              "      <th>contact_other_covid</th>\n",
              "      <td>NaN</td>\n",
              "      <td>NaN</td>\n",
              "      <td>-0.041755</td>\n",
              "      <td>-0.097163</td>\n",
              "      <td>0.086659</td>\n",
              "      <td>-0.045022</td>\n",
              "      <td>-0.090014</td>\n",
              "      <td>-0.045629</td>\n",
              "      <td>-0.000215</td>\n",
              "      <td>-0.017183</td>\n",
              "      <td>-0.074509</td>\n",
              "      <td>-0.026000</td>\n",
              "      <td>-0.031600</td>\n",
              "      <td>0.017588</td>\n",
              "      <td>-0.059366</td>\n",
              "      <td>0.010441</td>\n",
              "      <td>1.000000</td>\n",
              "      <td>-0.041890</td>\n",
              "      <td>-0.026818</td>\n",
              "    </tr>\n",
              "    <tr>\n",
              "      <th>covid_res</th>\n",
              "      <td>NaN</td>\n",
              "      <td>NaN</td>\n",
              "      <td>-0.053427</td>\n",
              "      <td>-0.205502</td>\n",
              "      <td>0.202211</td>\n",
              "      <td>0.046104</td>\n",
              "      <td>-0.083567</td>\n",
              "      <td>0.045160</td>\n",
              "      <td>0.010103</td>\n",
              "      <td>0.083115</td>\n",
              "      <td>-0.079742</td>\n",
              "      <td>0.094249</td>\n",
              "      <td>0.046820</td>\n",
              "      <td>-0.114613</td>\n",
              "      <td>0.058039</td>\n",
              "      <td>0.028987</td>\n",
              "      <td>-0.041890</td>\n",
              "      <td>1.000000</td>\n",
              "      <td>-0.014981</td>\n",
              "    </tr>\n",
              "    <tr>\n",
              "      <th>icu</th>\n",
              "      <td>NaN</td>\n",
              "      <td>NaN</td>\n",
              "      <td>0.426606</td>\n",
              "      <td>0.115182</td>\n",
              "      <td>0.007049</td>\n",
              "      <td>-0.014158</td>\n",
              "      <td>0.032156</td>\n",
              "      <td>0.004155</td>\n",
              "      <td>-0.009605</td>\n",
              "      <td>0.030939</td>\n",
              "      <td>0.023080</td>\n",
              "      <td>0.051416</td>\n",
              "      <td>0.027228</td>\n",
              "      <td>0.038086</td>\n",
              "      <td>0.029893</td>\n",
              "      <td>-0.008466</td>\n",
              "      <td>-0.026818</td>\n",
              "      <td>-0.014981</td>\n",
              "      <td>1.000000</td>\n",
              "    </tr>\n",
              "  </tbody>\n",
              "</table>\n",
              "</div>\n",
              "      <button class=\"colab-df-convert\" onclick=\"convertToInteractive('df-dcea4950-07a5-4482-9df3-bec351274a01')\"\n",
              "              title=\"Convert this dataframe to an interactive table.\"\n",
              "              style=\"display:none;\">\n",
              "        \n",
              "  <svg xmlns=\"http://www.w3.org/2000/svg\" height=\"24px\"viewBox=\"0 0 24 24\"\n",
              "       width=\"24px\">\n",
              "    <path d=\"M0 0h24v24H0V0z\" fill=\"none\"/>\n",
              "    <path d=\"M18.56 5.44l.94 2.06.94-2.06 2.06-.94-2.06-.94-.94-2.06-.94 2.06-2.06.94zm-11 1L8.5 8.5l.94-2.06 2.06-.94-2.06-.94L8.5 2.5l-.94 2.06-2.06.94zm10 10l.94 2.06.94-2.06 2.06-.94-2.06-.94-.94-2.06-.94 2.06-2.06.94z\"/><path d=\"M17.41 7.96l-1.37-1.37c-.4-.4-.92-.59-1.43-.59-.52 0-1.04.2-1.43.59L10.3 9.45l-7.72 7.72c-.78.78-.78 2.05 0 2.83L4 21.41c.39.39.9.59 1.41.59.51 0 1.02-.2 1.41-.59l7.78-7.78 2.81-2.81c.8-.78.8-2.07 0-2.86zM5.41 20L4 18.59l7.72-7.72 1.47 1.35L5.41 20z\"/>\n",
              "  </svg>\n",
              "      </button>\n",
              "      \n",
              "  <style>\n",
              "    .colab-df-container {\n",
              "      display:flex;\n",
              "      flex-wrap:wrap;\n",
              "      gap: 12px;\n",
              "    }\n",
              "\n",
              "    .colab-df-convert {\n",
              "      background-color: #E8F0FE;\n",
              "      border: none;\n",
              "      border-radius: 50%;\n",
              "      cursor: pointer;\n",
              "      display: none;\n",
              "      fill: #1967D2;\n",
              "      height: 32px;\n",
              "      padding: 0 0 0 0;\n",
              "      width: 32px;\n",
              "    }\n",
              "\n",
              "    .colab-df-convert:hover {\n",
              "      background-color: #E2EBFA;\n",
              "      box-shadow: 0px 1px 2px rgba(60, 64, 67, 0.3), 0px 1px 3px 1px rgba(60, 64, 67, 0.15);\n",
              "      fill: #174EA6;\n",
              "    }\n",
              "\n",
              "    [theme=dark] .colab-df-convert {\n",
              "      background-color: #3B4455;\n",
              "      fill: #D2E3FC;\n",
              "    }\n",
              "\n",
              "    [theme=dark] .colab-df-convert:hover {\n",
              "      background-color: #434B5C;\n",
              "      box-shadow: 0px 1px 3px 1px rgba(0, 0, 0, 0.15);\n",
              "      filter: drop-shadow(0px 1px 2px rgba(0, 0, 0, 0.3));\n",
              "      fill: #FFFFFF;\n",
              "    }\n",
              "  </style>\n",
              "\n",
              "      <script>\n",
              "        const buttonEl =\n",
              "          document.querySelector('#df-dcea4950-07a5-4482-9df3-bec351274a01 button.colab-df-convert');\n",
              "        buttonEl.style.display =\n",
              "          google.colab.kernel.accessAllowed ? 'block' : 'none';\n",
              "\n",
              "        async function convertToInteractive(key) {\n",
              "          const element = document.querySelector('#df-dcea4950-07a5-4482-9df3-bec351274a01');\n",
              "          const dataTable =\n",
              "            await google.colab.kernel.invokeFunction('convertToInteractive',\n",
              "                                                     [key], {});\n",
              "          if (!dataTable) return;\n",
              "\n",
              "          const docLinkHtml = 'Like what you see? Visit the ' +\n",
              "            '<a target=\"_blank\" href=https://colab.research.google.com/notebooks/data_table.ipynb>data table notebook</a>'\n",
              "            + ' to learn more about interactive tables.';\n",
              "          element.innerHTML = '';\n",
              "          dataTable['output_type'] = 'display_data';\n",
              "          await google.colab.output.renderOutput(dataTable, element);\n",
              "          const docLink = document.createElement('div');\n",
              "          docLink.innerHTML = docLinkHtml;\n",
              "          element.appendChild(docLink);\n",
              "        }\n",
              "      </script>\n",
              "    </div>\n",
              "  </div>\n",
              "  "
            ]
          },
          "metadata": {},
          "execution_count": 108
        }
      ]
    },
    {
      "cell_type": "code",
      "source": [
        "#Data Visualization\n",
        "#here we have high values 1 which indicate by yellow color which means positive correlation\n",
        "plt.figure(figsize=(15,15))\n",
        "sns.heatmap(Covid_dataset.corr(),cmap='viridis')\n",
        "plt.title('Correlation heatmap',size=25)"
      ],
      "metadata": {
        "colab": {
          "base_uri": "https://localhost:8080/",
          "height": 996
        },
        "id": "-TQ-21ryux80",
        "outputId": "88241af7-1f26-49d0-cb78-92889fb977a7"
      },
      "execution_count": 109,
      "outputs": [
        {
          "output_type": "execute_result",
          "data": {
            "text/plain": [
              "Text(0.5, 1.0, 'Correlation heatmap')"
            ]
          },
          "metadata": {},
          "execution_count": 109
        },
        {
          "output_type": "display_data",
          "data": {
            "text/plain": [
              "<Figure size 1080x1080 with 2 Axes>"
            ],
            "image/png": "[encoded data removed]"
          },
          "metadata": {
            "needs_background": "light"
          }
        }
      ]
    },
    {
      "cell_type": "code",
      "source": [
        "#plotting in x intubed column and  in y the account acorrding to the covid_res column\n",
        "#FROM graphs number of patients who use intubed  less than who they are not even they are have positive covid_res result or negative result\n",
        "#patients who they donot use intubed are most infection with covid19\n",
        "plt.figure(figsize=(7,5))\n",
        "sns.catplot('intubed',data=Covid_dataset,kind='count',palette='autumn_d',hue='covid_res')\n",
        "plt.xticks(size=15,)\n",
        "plt.xlabel('Intubation \\n \\n Yes:{}  No:{}'.format(Covid_dataset['intubed'].value_counts()[1] , Covid_dataset['intubed'].value_counts()[2]),size=15)\n",
        "plt.ylabel('Count',size=15)"
      ],
      "metadata": {
        "colab": {
          "base_uri": "https://localhost:8080/",
          "height": 503
        },
        "id": "RaoKjfpewv6D",
        "outputId": "a0e9ed66-3a59-4f83-8d42-93ac1ddab128"
      },
      "execution_count": 110,
      "outputs": [
        {
          "output_type": "stream",
          "name": "stderr",
          "text": [
            "/usr/local/lib/python3.8/dist-packages/seaborn/_decorators.py:36: FutureWarning: Pass the following variable as a keyword arg: x. From version 0.12, the only valid positional argument will be `data`, and passing other arguments without an explicit keyword will result in an error or misinterpretation.\n",
            "  warnings.warn(\n"
          ]
        },
        {
          "output_type": "execute_result",
          "data": {
            "text/plain": [
              "Text(30.429800347222226, 0.5, 'Count')"
            ]
          },
          "metadata": {},
          "execution_count": 110
        },
        {
          "output_type": "display_data",
          "data": {
            "text/plain": [
              "<Figure size 504x360 with 0 Axes>"
            ]
          },
          "metadata": {}
        },
        {
          "output_type": "display_data",
          "data": {
            "text/plain": [
              "<Figure size 414.875x360 with 1 Axes>"
            ],
            "image/png": "[encoded data removed]"
          },
          "metadata": {
            "needs_background": "light"
          }
        }
      ]
    },
    {
      "cell_type": "code",
      "source": [
        "#putting all columns into variable\n",
        "features=['sex', 'patient_type', 'intubed', 'pneumonia', 'age', 'pregnancy',\n",
        "       'diabetes', 'copd', 'asthma', 'inmsupr', 'hypertension',\n",
        "       'other_disease', 'cardiovascular', 'obesity', 'renal_chronic',\n",
        "       'tobacco', 'contact_other_covid', 'icu']\n",
        "#displaying feature\n",
        "list(enumerate(features))"
      ],
      "metadata": {
        "colab": {
          "base_uri": "https://localhost:8080/"
        },
        "id": "wzWh4e700CzP",
        "outputId": "c0426469-8e37-4767-c077-48168167d6fd"
      },
      "execution_count": 111,
      "outputs": [
        {
          "output_type": "execute_result",
          "data": {
            "text/plain": [
              "[(0, 'sex'),\n",
              " (1, 'patient_type'),\n",
              " (2, 'intubed'),\n",
              " (3, 'pneumonia'),\n",
              " (4, 'age'),\n",
              " (5, 'pregnancy'),\n",
              " (6, 'diabetes'),\n",
              " (7, 'copd'),\n",
              " (8, 'asthma'),\n",
              " (9, 'inmsupr'),\n",
              " (10, 'hypertension'),\n",
              " (11, 'other_disease'),\n",
              " (12, 'cardiovascular'),\n",
              " (13, 'obesity'),\n",
              " (14, 'renal_chronic'),\n",
              " (15, 'tobacco'),\n",
              " (16, 'contact_other_covid'),\n",
              " (17, 'icu')]"
            ]
          },
          "metadata": {},
          "execution_count": 111
        }
      ]
    },
    {
      "cell_type": "code",
      "source": [
        "#compairing covid_rec coulmn with the rest columns \n",
        "plt.figure(figsize=(15,15))\n",
        "for i in enumerate(features):\n",
        "    plt.subplot(6,3,i[0]+1)\n",
        "    sns.countplot(i[1],hue='covid_res',data=Covid_dataset)\n",
        "    plt.xticks(rotation=45,size=8)\n",
        "    plt.tight_layout()               \n",
        "                  "
      ],
      "metadata": {
        "colab": {
          "base_uri": "https://localhost:8080/",
          "height": 1000
        },
        "id": "-xTK42cb0TwK",
        "outputId": "5ef09bc8-8695-4b5f-a8fa-1c70ce1cc6d5"
      },
      "execution_count": 112,
      "outputs": [
        {
          "output_type": "stream",
          "name": "stderr",
          "text": [
            "/usr/local/lib/python3.8/dist-packages/seaborn/_decorators.py:36: FutureWarning: Pass the following variable as a keyword arg: x. From version 0.12, the only valid positional argument will be `data`, and passing other arguments without an explicit keyword will result in an error or misinterpretation.\n",
            "  warnings.warn(\n",
            "/usr/local/lib/python3.8/dist-packages/seaborn/_decorators.py:36: FutureWarning: Pass the following variable as a keyword arg: x. From version 0.12, the only valid positional argument will be `data`, and passing other arguments without an explicit keyword will result in an error or misinterpretation.\n",
            "  warnings.warn(\n",
            "/usr/local/lib/python3.8/dist-packages/seaborn/_decorators.py:36: FutureWarning: Pass the following variable as a keyword arg: x. From version 0.12, the only valid positional argument will be `data`, and passing other arguments without an explicit keyword will result in an error or misinterpretation.\n",
            "  warnings.warn(\n",
            "/usr/local/lib/python3.8/dist-packages/seaborn/_decorators.py:36: FutureWarning: Pass the following variable as a keyword arg: x. From version 0.12, the only valid positional argument will be `data`, and passing other arguments without an explicit keyword will result in an error or misinterpretation.\n",
            "  warnings.warn(\n",
            "/usr/local/lib/python3.8/dist-packages/seaborn/_decorators.py:36: FutureWarning: Pass the following variable as a keyword arg: x. From version 0.12, the only valid positional argument will be `data`, and passing other arguments without an explicit keyword will result in an error or misinterpretation.\n",
            "  warnings.warn(\n",
            "/usr/local/lib/python3.8/dist-packages/seaborn/_decorators.py:36: FutureWarning: Pass the following variable as a keyword arg: x. From version 0.12, the only valid positional argument will be `data`, and passing other arguments without an explicit keyword will result in an error or misinterpretation.\n",
            "  warnings.warn(\n",
            "/usr/local/lib/python3.8/dist-packages/seaborn/_decorators.py:36: FutureWarning: Pass the following variable as a keyword arg: x. From version 0.12, the only valid positional argument will be `data`, and passing other arguments without an explicit keyword will result in an error or misinterpretation.\n",
            "  warnings.warn(\n",
            "/usr/local/lib/python3.8/dist-packages/seaborn/_decorators.py:36: FutureWarning: Pass the following variable as a keyword arg: x. From version 0.12, the only valid positional argument will be `data`, and passing other arguments without an explicit keyword will result in an error or misinterpretation.\n",
            "  warnings.warn(\n",
            "/usr/local/lib/python3.8/dist-packages/seaborn/_decorators.py:36: FutureWarning: Pass the following variable as a keyword arg: x. From version 0.12, the only valid positional argument will be `data`, and passing other arguments without an explicit keyword will result in an error or misinterpretation.\n",
            "  warnings.warn(\n",
            "/usr/local/lib/python3.8/dist-packages/seaborn/_decorators.py:36: FutureWarning: Pass the following variable as a keyword arg: x. From version 0.12, the only valid positional argument will be `data`, and passing other arguments without an explicit keyword will result in an error or misinterpretation.\n",
            "  warnings.warn(\n",
            "/usr/local/lib/python3.8/dist-packages/seaborn/_decorators.py:36: FutureWarning: Pass the following variable as a keyword arg: x. From version 0.12, the only valid positional argument will be `data`, and passing other arguments without an explicit keyword will result in an error or misinterpretation.\n",
            "  warnings.warn(\n",
            "/usr/local/lib/python3.8/dist-packages/seaborn/_decorators.py:36: FutureWarning: Pass the following variable as a keyword arg: x. From version 0.12, the only valid positional argument will be `data`, and passing other arguments without an explicit keyword will result in an error or misinterpretation.\n",
            "  warnings.warn(\n",
            "/usr/local/lib/python3.8/dist-packages/seaborn/_decorators.py:36: FutureWarning: Pass the following variable as a keyword arg: x. From version 0.12, the only valid positional argument will be `data`, and passing other arguments without an explicit keyword will result in an error or misinterpretation.\n",
            "  warnings.warn(\n",
            "/usr/local/lib/python3.8/dist-packages/seaborn/_decorators.py:36: FutureWarning: Pass the following variable as a keyword arg: x. From version 0.12, the only valid positional argument will be `data`, and passing other arguments without an explicit keyword will result in an error or misinterpretation.\n",
            "  warnings.warn(\n",
            "/usr/local/lib/python3.8/dist-packages/seaborn/_decorators.py:36: FutureWarning: Pass the following variable as a keyword arg: x. From version 0.12, the only valid positional argument will be `data`, and passing other arguments without an explicit keyword will result in an error or misinterpretation.\n",
            "  warnings.warn(\n",
            "/usr/local/lib/python3.8/dist-packages/seaborn/_decorators.py:36: FutureWarning: Pass the following variable as a keyword arg: x. From version 0.12, the only valid positional argument will be `data`, and passing other arguments without an explicit keyword will result in an error or misinterpretation.\n",
            "  warnings.warn(\n",
            "/usr/local/lib/python3.8/dist-packages/seaborn/_decorators.py:36: FutureWarning: Pass the following variable as a keyword arg: x. From version 0.12, the only valid positional argument will be `data`, and passing other arguments without an explicit keyword will result in an error or misinterpretation.\n",
            "  warnings.warn(\n",
            "/usr/local/lib/python3.8/dist-packages/seaborn/_decorators.py:36: FutureWarning: Pass the following variable as a keyword arg: x. From version 0.12, the only valid positional argument will be `data`, and passing other arguments without an explicit keyword will result in an error or misinterpretation.\n",
            "  warnings.warn(\n"
          ]
        },
        {
          "output_type": "display_data",
          "data": {
            "text/plain": [
              "<Figure size 1080x1080 with 18 Axes>"
            ],
            "image/png": "[encoded data removed]"
          },
          "metadata": {
            "needs_background": "light"
          }
        }
      ]
    },
    {
      "cell_type": "markdown",
      "source": [
        " **The result  in down plot is that those between the ages of 20 and 65 are the most infected with Covid**"
      ],
      "metadata": {
        "id": "6v3ErOykikHk"
      }
    },
    {
      "cell_type": "code",
      "source": [
        "#babies have a positive covid result\n",
        "y1=len(Covid_dataset.loc[(Covid_dataset['covid_res']==1 )&(Covid_dataset['age']<2),])\n",
        "#child have a positive covid result\n",
        "y2=len(Covid_dataset.loc[(Covid_dataset['covid_res']==1 )&((Covid_dataset['age']>=2)&(Covid_dataset['age']< 13)),])\n",
        "#teenager have a positive covid result\n",
        "y3=len(Covid_dataset.loc[(Covid_dataset['covid_res']==1 )&((Covid_dataset['age']>=13)&(Covid_dataset['age']<20)),])\n",
        "#adult have a positive covid result\n",
        "y4=len(Covid_dataset.loc[(Covid_dataset['covid_res']==1 )&((Covid_dataset['age']>=20)&(Covid_dataset['age']<65)),])\n",
        "#senior citizen have a positive covid result\n",
        "y5=len(Covid_dataset.loc[(Covid_dataset['covid_res']==1 )&(Covid_dataset['age']>65),])\n",
        "print(\"babies have a positive covid result :\",y1)\n",
        "print(\"child have a positive covid result :\",y2)\n",
        "print(\"teenager have a positive covid result :\",y3)\n",
        "print(\"adult have a positive covid result :\",y4)\n",
        "print(\"senior citizen have a positive covid result :\",y5)\n",
        "#Draw pie plot of the age categories have a positive covid result \n",
        "data=[y1,y2,y3,y4,y5]\n",
        "l=[\"Baby\",\"child\", \"teenager\", \"adult\", \"Senior Citizen\"]\n",
        "colors = ['yellowgreen', 'gold', 'lightskyblue', 'lightcoral', 'blue', 'pink']\n",
        "plt.pie(data,labels=l,explode=[0.4,0,0.4,0,0],colors=colors)\n",
        "plt.title(\"Age categories have a pocitive covid result\")\n",
        "plt.show()\n"
      ],
      "metadata": {
        "colab": {
          "base_uri": "https://localhost:8080/",
          "height": 351
        },
        "id": "nG40Sf84V0q6",
        "outputId": "68bbbd97-32dd-46f4-c797-b10dc98bd6ff"
      },
      "execution_count": 113,
      "outputs": [
        {
          "output_type": "stream",
          "name": "stdout",
          "text": [
            "babies have a positive covid result : 115\n",
            "child have a positive covid result : 83\n",
            "teenager have a positive covid result : 122\n",
            "adult have a positive covid result : 8226\n",
            "senior citizen have a positive covid result : 3110\n"
          ]
        },
        {
          "output_type": "display_data",
          "data": {
            "text/plain": [
              "<Figure size 432x288 with 1 Axes>"
            ],
            "image/png": "[encoded data removed]"
          },
          "metadata": {}
        }
      ]
    }
  ]
}